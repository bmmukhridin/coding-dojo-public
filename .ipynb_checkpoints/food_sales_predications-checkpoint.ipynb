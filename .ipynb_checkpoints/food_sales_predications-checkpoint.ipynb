{
 "cells": [
  {
   "cell_type": "markdown",
   "metadata": {
    "colab_type": "text",
    "id": "view-in-github"
   },
   "source": [
    "<a href=\"https://colab.research.google.com/github/bmmukhridin/sales-predictions/blob/main/food_sales_predications.ipynb\" target=\"_parent\"><img src=\"https://colab.research.google.com/assets/colab-badge.svg\" alt=\"Open In Colab\"/></a>"
   ]
  },
  {
   "cell_type": "markdown",
   "metadata": {
    "id": "WO5vQFmrlNkv"
   },
   "source": [
    "# Project 1 - Part 1\n",
    "\n",
    "##### Mukhriddin Bakhramov\n",
    "\n"
   ]
  },
  {
   "cell_type": "code",
   "execution_count": 43,
   "metadata": {
    "id": "aQN3qN9ukXOP"
   },
   "outputs": [],
   "source": [
    "# Lets import or librires\n",
    "import pandas as pd\n",
    "import numpy as np\n",
    "import matplotlib.pyplot as plt\n",
    "import seaborn as sns\n",
    "from sklearn.model_selection import train_test_split\n",
    "from sklearn.linear_model import LinearRegression\n",
    "from sklearn.tree import DecisionTreeRegressor\n",
    "from sklearn.ensemble import BaggingRegressor\n",
    "from sklearn.ensemble import RandomForestRegressor\n",
    "from sklearn.metrics import r2_score, mean_squared_error, mean_absolute_error\n",
    "from sklearn import set_config\n",
    "set_config(display='diagram')"
   ]
  },
  {
   "cell_type": "markdown",
   "metadata": {
    "id": "q5_XGfa0lzqa"
   },
   "source": [
    "## Loading Data\""
   ]
  },
  {
   "cell_type": "code",
   "execution_count": 2,
   "metadata": {
    "id": "RRj8jbIEl5Oj"
   },
   "outputs": [
    {
     "data": {
      "text/html": [
       "<div>\n",
       "<style scoped>\n",
       "    .dataframe tbody tr th:only-of-type {\n",
       "        vertical-align: middle;\n",
       "    }\n",
       "\n",
       "    .dataframe tbody tr th {\n",
       "        vertical-align: top;\n",
       "    }\n",
       "\n",
       "    .dataframe thead th {\n",
       "        text-align: right;\n",
       "    }\n",
       "</style>\n",
       "<table border=\"1\" class=\"dataframe\">\n",
       "  <thead>\n",
       "    <tr style=\"text-align: right;\">\n",
       "      <th></th>\n",
       "      <th>Item_Identifier</th>\n",
       "      <th>Item_Weight</th>\n",
       "      <th>Item_Fat_Content</th>\n",
       "      <th>Item_Visibility</th>\n",
       "      <th>Item_Type</th>\n",
       "      <th>Item_MRP</th>\n",
       "      <th>Outlet_Identifier</th>\n",
       "      <th>Outlet_Establishment_Year</th>\n",
       "      <th>Outlet_Size</th>\n",
       "      <th>Outlet_Location_Type</th>\n",
       "      <th>Outlet_Type</th>\n",
       "      <th>Item_Outlet_Sales</th>\n",
       "    </tr>\n",
       "  </thead>\n",
       "  <tbody>\n",
       "    <tr>\n",
       "      <th>0</th>\n",
       "      <td>FDA15</td>\n",
       "      <td>9.30</td>\n",
       "      <td>Low Fat</td>\n",
       "      <td>0.016047</td>\n",
       "      <td>Dairy</td>\n",
       "      <td>249.8092</td>\n",
       "      <td>OUT049</td>\n",
       "      <td>1999</td>\n",
       "      <td>Medium</td>\n",
       "      <td>Tier 1</td>\n",
       "      <td>Supermarket Type1</td>\n",
       "      <td>3735.1380</td>\n",
       "    </tr>\n",
       "    <tr>\n",
       "      <th>1</th>\n",
       "      <td>DRC01</td>\n",
       "      <td>5.92</td>\n",
       "      <td>Regular</td>\n",
       "      <td>0.019278</td>\n",
       "      <td>Soft Drinks</td>\n",
       "      <td>48.2692</td>\n",
       "      <td>OUT018</td>\n",
       "      <td>2009</td>\n",
       "      <td>Medium</td>\n",
       "      <td>Tier 3</td>\n",
       "      <td>Supermarket Type2</td>\n",
       "      <td>443.4228</td>\n",
       "    </tr>\n",
       "    <tr>\n",
       "      <th>2</th>\n",
       "      <td>FDN15</td>\n",
       "      <td>17.50</td>\n",
       "      <td>Low Fat</td>\n",
       "      <td>0.016760</td>\n",
       "      <td>Meat</td>\n",
       "      <td>141.6180</td>\n",
       "      <td>OUT049</td>\n",
       "      <td>1999</td>\n",
       "      <td>Medium</td>\n",
       "      <td>Tier 1</td>\n",
       "      <td>Supermarket Type1</td>\n",
       "      <td>2097.2700</td>\n",
       "    </tr>\n",
       "    <tr>\n",
       "      <th>3</th>\n",
       "      <td>FDX07</td>\n",
       "      <td>19.20</td>\n",
       "      <td>Regular</td>\n",
       "      <td>0.000000</td>\n",
       "      <td>Fruits and Vegetables</td>\n",
       "      <td>182.0950</td>\n",
       "      <td>OUT010</td>\n",
       "      <td>1998</td>\n",
       "      <td>NaN</td>\n",
       "      <td>Tier 3</td>\n",
       "      <td>Grocery Store</td>\n",
       "      <td>732.3800</td>\n",
       "    </tr>\n",
       "    <tr>\n",
       "      <th>4</th>\n",
       "      <td>NCD19</td>\n",
       "      <td>8.93</td>\n",
       "      <td>Low Fat</td>\n",
       "      <td>0.000000</td>\n",
       "      <td>Household</td>\n",
       "      <td>53.8614</td>\n",
       "      <td>OUT013</td>\n",
       "      <td>1987</td>\n",
       "      <td>High</td>\n",
       "      <td>Tier 3</td>\n",
       "      <td>Supermarket Type1</td>\n",
       "      <td>994.7052</td>\n",
       "    </tr>\n",
       "  </tbody>\n",
       "</table>\n",
       "</div>"
      ],
      "text/plain": [
       "  Item_Identifier  Item_Weight Item_Fat_Content  Item_Visibility  \\\n",
       "0           FDA15         9.30          Low Fat         0.016047   \n",
       "1           DRC01         5.92          Regular         0.019278   \n",
       "2           FDN15        17.50          Low Fat         0.016760   \n",
       "3           FDX07        19.20          Regular         0.000000   \n",
       "4           NCD19         8.93          Low Fat         0.000000   \n",
       "\n",
       "               Item_Type  Item_MRP Outlet_Identifier  \\\n",
       "0                  Dairy  249.8092            OUT049   \n",
       "1            Soft Drinks   48.2692            OUT018   \n",
       "2                   Meat  141.6180            OUT049   \n",
       "3  Fruits and Vegetables  182.0950            OUT010   \n",
       "4              Household   53.8614            OUT013   \n",
       "\n",
       "   Outlet_Establishment_Year Outlet_Size Outlet_Location_Type  \\\n",
       "0                       1999      Medium               Tier 1   \n",
       "1                       2009      Medium               Tier 3   \n",
       "2                       1999      Medium               Tier 1   \n",
       "3                       1998         NaN               Tier 3   \n",
       "4                       1987        High               Tier 3   \n",
       "\n",
       "         Outlet_Type  Item_Outlet_Sales  \n",
       "0  Supermarket Type1          3735.1380  \n",
       "1  Supermarket Type2           443.4228  \n",
       "2  Supermarket Type1          2097.2700  \n",
       "3      Grocery Store           732.3800  \n",
       "4  Supermarket Type1           994.7052  "
      ]
     },
     "execution_count": 2,
     "metadata": {},
     "output_type": "execute_result"
    }
   ],
   "source": [
    "df= pd.read_csv(\"sales_predictions.csv\")\n",
    "df.head()"
   ]
  },
  {
   "cell_type": "code",
   "execution_count": 3,
   "metadata": {},
   "outputs": [
    {
     "name": "stdout",
     "output_type": "stream",
     "text": [
      "<class 'pandas.core.frame.DataFrame'>\n",
      "RangeIndex: 8523 entries, 0 to 8522\n",
      "Data columns (total 12 columns):\n",
      " #   Column                     Non-Null Count  Dtype  \n",
      "---  ------                     --------------  -----  \n",
      " 0   Item_Identifier            8523 non-null   object \n",
      " 1   Item_Weight                7060 non-null   float64\n",
      " 2   Item_Fat_Content           8523 non-null   object \n",
      " 3   Item_Visibility            8523 non-null   float64\n",
      " 4   Item_Type                  8523 non-null   object \n",
      " 5   Item_MRP                   8523 non-null   float64\n",
      " 6   Outlet_Identifier          8523 non-null   object \n",
      " 7   Outlet_Establishment_Year  8523 non-null   int64  \n",
      " 8   Outlet_Size                6113 non-null   object \n",
      " 9   Outlet_Location_Type       8523 non-null   object \n",
      " 10  Outlet_Type                8523 non-null   object \n",
      " 11  Item_Outlet_Sales          8523 non-null   float64\n",
      "dtypes: float64(4), int64(1), object(7)\n",
      "memory usage: 799.2+ KB\n"
     ]
    }
   ],
   "source": [
    "df.info()"
   ]
  },
  {
   "cell_type": "markdown",
   "metadata": {
    "id": "5112d7rumDGH"
   },
   "source": [
    "## Data Cleaning"
   ]
  },
  {
   "cell_type": "code",
   "execution_count": 4,
   "metadata": {
    "id": "WaoOIbKImEU4"
   },
   "outputs": [
    {
     "data": {
      "text/plain": [
       "(8523, 12)"
      ]
     },
     "execution_count": 4,
     "metadata": {},
     "output_type": "execute_result"
    }
   ],
   "source": [
    "#  How many rows and columns?\n",
    "df.shape"
   ]
  },
  {
   "cell_type": "code",
   "execution_count": 5,
   "metadata": {},
   "outputs": [
    {
     "data": {
      "text/plain": [
       "Item_Identifier               object\n",
       "Item_Weight                  float64\n",
       "Item_Fat_Content              object\n",
       "Item_Visibility              float64\n",
       "Item_Type                     object\n",
       "Item_MRP                     float64\n",
       "Outlet_Identifier             object\n",
       "Outlet_Establishment_Year      int64\n",
       "Outlet_Size                   object\n",
       "Outlet_Location_Type          object\n",
       "Outlet_Type                   object\n",
       "Item_Outlet_Sales            float64\n",
       "dtype: object"
      ]
     },
     "execution_count": 5,
     "metadata": {},
     "output_type": "execute_result"
    }
   ],
   "source": [
    "# What are the datatypes of each variable?\n",
    "df.dtypes"
   ]
  },
  {
   "cell_type": "code",
   "execution_count": 6,
   "metadata": {},
   "outputs": [
    {
     "data": {
      "text/plain": [
       "0"
      ]
     },
     "execution_count": 6,
     "metadata": {},
     "output_type": "execute_result"
    }
   ],
   "source": [
    "# Are there duplicates? If so, drop any duplicates.\n",
    "df.duplicated().sum()"
   ]
  },
  {
   "cell_type": "markdown",
   "metadata": {},
   "source": [
    "There no duplicates"
   ]
  },
  {
   "cell_type": "code",
   "execution_count": 7,
   "metadata": {},
   "outputs": [
    {
     "data": {
      "text/plain": [
       "Item_Identifier                 0\n",
       "Item_Weight                  1463\n",
       "Item_Fat_Content                0\n",
       "Item_Visibility                 0\n",
       "Item_Type                       0\n",
       "Item_MRP                        0\n",
       "Outlet_Identifier               0\n",
       "Outlet_Establishment_Year       0\n",
       "Outlet_Size                  2410\n",
       "Outlet_Location_Type            0\n",
       "Outlet_Type                     0\n",
       "Item_Outlet_Sales               0\n",
       "dtype: int64"
      ]
     },
     "execution_count": 7,
     "metadata": {},
     "output_type": "execute_result"
    }
   ],
   "source": [
    "# Lets check sum NA's \n",
    "df.isna().sum()"
   ]
  },
  {
   "cell_type": "code",
   "execution_count": 8,
   "metadata": {},
   "outputs": [
    {
     "name": "stdout",
     "output_type": "stream",
     "text": [
      "17%\n"
     ]
    }
   ],
   "source": [
    "# Lets check percentage of missing valeus of our columns for \"Item_Weight\"\n",
    "print(f\"{round(df['Item_Weight'].isna().sum()/len(df['Item_Weight'])*100)}%\")\n"
   ]
  },
  {
   "cell_type": "markdown",
   "metadata": {},
   "source": [
    "#### We have 17% of missing data in this case we will fill Item_Weight N/A with avarage using mean()"
   ]
  },
  {
   "cell_type": "code",
   "execution_count": 9,
   "metadata": {},
   "outputs": [
    {
     "data": {
      "text/plain": [
       "Item_Identifier                 0\n",
       "Item_Weight                     0\n",
       "Item_Fat_Content                0\n",
       "Item_Visibility                 0\n",
       "Item_Type                       0\n",
       "Item_MRP                        0\n",
       "Outlet_Identifier               0\n",
       "Outlet_Establishment_Year       0\n",
       "Outlet_Size                  2410\n",
       "Outlet_Location_Type            0\n",
       "Outlet_Type                     0\n",
       "Item_Outlet_Sales               0\n",
       "dtype: int64"
      ]
     },
     "execution_count": 9,
     "metadata": {},
     "output_type": "execute_result"
    }
   ],
   "source": [
    "# Lets copy our data for backup\n",
    "df_copy = df\n",
    "df_copy_mean= df_copy['Item_Weight'].mean()\n",
    "df_copy['Item_Weight'].fillna(value=df_copy_mean, inplace=True)\n",
    "# And lets check Item_Weight N/A\n",
    "df_copy.isna().sum()"
   ]
  },
  {
   "cell_type": "markdown",
   "metadata": {},
   "source": [
    "### Now lets work with Outlet_Size column \n"
   ]
  },
  {
   "cell_type": "code",
   "execution_count": 10,
   "metadata": {},
   "outputs": [
    {
     "name": "stdout",
     "output_type": "stream",
     "text": [
      "28%\n"
     ]
    }
   ],
   "source": [
    "# Lets check percentage of missing valeus of our columns for \"Outlet_Size\"\n",
    "print(f\"{round(df['Outlet_Size'].isna().sum()/len(df['Outlet_Size'])*100)}%\")"
   ]
  },
  {
   "cell_type": "markdown",
   "metadata": {},
   "source": [
    "#### We have 28% of missing data in this case we will fill Outlet_Size N/A with \"Missing\""
   ]
  },
  {
   "cell_type": "code",
   "execution_count": 11,
   "metadata": {},
   "outputs": [
    {
     "data": {
      "text/plain": [
       "Item_Identifier              0\n",
       "Item_Weight                  0\n",
       "Item_Fat_Content             0\n",
       "Item_Visibility              0\n",
       "Item_Type                    0\n",
       "Item_MRP                     0\n",
       "Outlet_Identifier            0\n",
       "Outlet_Establishment_Year    0\n",
       "Outlet_Size                  0\n",
       "Outlet_Location_Type         0\n",
       "Outlet_Type                  0\n",
       "Item_Outlet_Sales            0\n",
       "dtype: int64"
      ]
     },
     "execution_count": 11,
     "metadata": {},
     "output_type": "execute_result"
    }
   ],
   "source": [
    "df_copy['Outlet_Size'].fillna(\"Missing\", inplace=True)\n",
    "df_copy.isna().sum()"
   ]
  },
  {
   "cell_type": "markdown",
   "metadata": {},
   "source": [
    "### We confirmed that there is no missing data"
   ]
  },
  {
   "cell_type": "code",
   "execution_count": 12,
   "metadata": {},
   "outputs": [
    {
     "name": "stdout",
     "output_type": "stream",
     "text": [
      "<class 'pandas.core.frame.DataFrame'>\n",
      "RangeIndex: 8523 entries, 0 to 8522\n",
      "Data columns (total 12 columns):\n",
      " #   Column                     Non-Null Count  Dtype  \n",
      "---  ------                     --------------  -----  \n",
      " 0   Item_Identifier            8523 non-null   object \n",
      " 1   Item_Weight                8523 non-null   float64\n",
      " 2   Item_Fat_Content           8523 non-null   object \n",
      " 3   Item_Visibility            8523 non-null   float64\n",
      " 4   Item_Type                  8523 non-null   object \n",
      " 5   Item_MRP                   8523 non-null   float64\n",
      " 6   Outlet_Identifier          8523 non-null   object \n",
      " 7   Outlet_Establishment_Year  8523 non-null   int64  \n",
      " 8   Outlet_Size                8523 non-null   object \n",
      " 9   Outlet_Location_Type       8523 non-null   object \n",
      " 10  Outlet_Type                8523 non-null   object \n",
      " 11  Item_Outlet_Sales          8523 non-null   float64\n",
      "dtypes: float64(4), int64(1), object(7)\n",
      "memory usage: 799.2+ KB\n"
     ]
    }
   ],
   "source": [
    "df_copy.info()"
   ]
  },
  {
   "cell_type": "code",
   "execution_count": 13,
   "metadata": {},
   "outputs": [
    {
     "data": {
      "text/plain": [
       "Low Fat    5089\n",
       "Regular    2889\n",
       "LF          316\n",
       "reg         117\n",
       "low fat     112\n",
       "Name: Item_Fat_Content, dtype: int64"
      ]
     },
     "execution_count": 13,
     "metadata": {},
     "output_type": "execute_result"
    }
   ],
   "source": [
    "# Lets find inconsistent categories of data\n",
    "df_copy[\"Item_Fat_Content\"].value_counts()"
   ]
  },
  {
   "cell_type": "markdown",
   "metadata": {},
   "source": [
    "### We see on top we have some mixed datas. In this case we most combine them "
   ]
  },
  {
   "cell_type": "code",
   "execution_count": 14,
   "metadata": {},
   "outputs": [],
   "source": [
    "df_copy = df_copy.replace({'Item_Fat_Content':{'LF': 'Low Fat','reg':'Regular','low fat': 'Low Fat'}})"
   ]
  },
  {
   "cell_type": "code",
   "execution_count": 15,
   "metadata": {},
   "outputs": [
    {
     "data": {
      "text/plain": [
       "Low Fat    5517\n",
       "Regular    3006\n",
       "Name: Item_Fat_Content, dtype: int64"
      ]
     },
     "execution_count": 15,
     "metadata": {},
     "output_type": "execute_result"
    }
   ],
   "source": [
    "df_copy[\"Item_Fat_Content\"].value_counts()"
   ]
  },
  {
   "cell_type": "code",
   "execution_count": 16,
   "metadata": {},
   "outputs": [
    {
     "name": "stdout",
     "output_type": "stream",
     "text": [
      "FDW13    10\n",
      "FDG33    10\n",
      "NCY18     9\n",
      "FDD38     9\n",
      "DRE49     9\n",
      "         ..\n",
      "FDY43     1\n",
      "FDQ60     1\n",
      "FDO33     1\n",
      "DRF48     1\n",
      "FDC23     1\n",
      "Name: Item_Identifier, Length: 1559, dtype: int64 \n",
      "\n",
      "\n",
      "Low Fat    5517\n",
      "Regular    3006\n",
      "Name: Item_Fat_Content, dtype: int64 \n",
      "\n",
      "\n",
      "Fruits and Vegetables    1232\n",
      "Snack Foods              1200\n",
      "Household                 910\n",
      "Frozen Foods              856\n",
      "Dairy                     682\n",
      "Canned                    649\n",
      "Baking Goods              648\n",
      "Health and Hygiene        520\n",
      "Soft Drinks               445\n",
      "Meat                      425\n",
      "Breads                    251\n",
      "Hard Drinks               214\n",
      "Others                    169\n",
      "Starchy Foods             148\n",
      "Breakfast                 110\n",
      "Seafood                    64\n",
      "Name: Item_Type, dtype: int64 \n",
      "\n",
      "\n",
      "OUT027    935\n",
      "OUT013    932\n",
      "OUT049    930\n",
      "OUT046    930\n",
      "OUT035    930\n",
      "OUT045    929\n",
      "OUT018    928\n",
      "OUT017    926\n",
      "OUT010    555\n",
      "OUT019    528\n",
      "Name: Outlet_Identifier, dtype: int64 \n",
      "\n",
      "\n",
      "Medium     2793\n",
      "Missing    2410\n",
      "Small      2388\n",
      "High        932\n",
      "Name: Outlet_Size, dtype: int64 \n",
      "\n",
      "\n",
      "Tier 3    3350\n",
      "Tier 2    2785\n",
      "Tier 1    2388\n",
      "Name: Outlet_Location_Type, dtype: int64 \n",
      "\n",
      "\n",
      "Supermarket Type1    5577\n",
      "Grocery Store        1083\n",
      "Supermarket Type3     935\n",
      "Supermarket Type2     928\n",
      "Name: Outlet_Type, dtype: int64 \n",
      "\n",
      "\n"
     ]
    }
   ],
   "source": [
    "cols = df_copy.columns\n",
    "for col in cols:\n",
    "    if df_copy[col].dtype == 'object':\n",
    "        print(df_copy[col].value_counts(),'\\n\\n')"
   ]
  },
  {
   "cell_type": "markdown",
   "metadata": {},
   "source": [
    "#### And we done here for project 1 part 2 \"for now\""
   ]
  },
  {
   "cell_type": "markdown",
   "metadata": {},
   "source": [
    "## Exploratory Visuals"
   ]
  },
  {
   "cell_type": "code",
   "execution_count": 17,
   "metadata": {},
   "outputs": [
    {
     "name": "stdout",
     "output_type": "stream",
     "text": [
      "1985    1463\n",
      "1987     932\n",
      "1999     930\n",
      "1997     930\n",
      "2004     930\n",
      "2002     929\n",
      "2009     928\n",
      "2007     926\n",
      "1998     555\n",
      "Name: Outlet_Establishment_Year, dtype: int64 \n",
      "\n",
      "\n"
     ]
    }
   ],
   "source": [
    "cols = df_copy.columns\n",
    "for col in cols:\n",
    "    if df_copy[col].dtype == 'int64':\n",
    "        print(df_copy[col].value_counts(),'\\n\\n')"
   ]
  },
  {
   "cell_type": "markdown",
   "metadata": {
    "id": "OuatZlLjlAmr"
   },
   "source": [
    "#### Lets build histogram for \"Outlet_Type\" column"
   ]
  },
  {
   "cell_type": "code",
   "execution_count": 18,
   "metadata": {
    "id": "M3ZJKuNCmOQD"
   },
   "outputs": [
    {
     "data": {
      "image/png": "[encoded data removed]",
      "text/plain": [
       "<Figure size 640x480 with 1 Axes>"
      ]
     },
     "metadata": {},
     "output_type": "display_data"
    }
   ],
   "source": [
    "# Lets graph a histogram where we can see total of seles by \"Outlet_Type\"\n",
    "sns.histplot(data=df, x='Outlet_Type');\n",
    "plt.tight_layout(rect=[0, 0, 1.3, 1])"
   ]
  },
  {
   "cell_type": "code",
   "execution_count": 19,
   "metadata": {},
   "outputs": [
    {
     "data": {
      "image/png": "[encoded data removed]",
      "text/plain": [
       "<Figure size 640x480 with 1 Axes>"
      ]
     },
     "metadata": {},
     "output_type": "display_data"
    }
   ],
   "source": [
    "# Lets graph a boxplot where we can see statistical summaries of various features\n",
    "sns.boxplot(data=df, y='Outlet_Size', x='Item_Outlet_Sales');"
   ]
  },
  {
   "cell_type": "code",
   "execution_count": 20,
   "metadata": {},
   "outputs": [
    {
     "data": {
      "image/png": "[encoded data removed]",
      "text/plain": [
       "<Figure size 640x480 with 2 Axes>"
      ]
     },
     "metadata": {},
     "output_type": "display_data"
    }
   ],
   "source": [
    "# Lets graph Heatmap of the correlation between features\n",
    "sns.heatmap(data=df.corr(),annot=True);"
   ]
  },
  {
   "cell_type": "markdown",
   "metadata": {},
   "source": [
    "# Project 1 - Part 5 (Core)"
   ]
  },
  {
   "cell_type": "markdown",
   "metadata": {},
   "source": [
    "### Assignment:\n",
    "* Before splitting your data, you can drop duplicates and fix inconsistencies in categorical data. (There is a way to do this after the split, but for this project, you may perform this step before the split) \n",
    "* Identify the features (X) and target (y): Assign the \"Item_Outlet_Sales\" column as your target and the rest of the relevant variables as your features matrix.\n",
    "* Perform a train test split\n",
    "* Create a preprocessing object to prepare the dataset for Machine Learning\n",
    "* Make sure your imputation of missing values occurs after the train test split using SimpleImputer. "
   ]
  },
  {
   "cell_type": "code",
   "execution_count": 21,
   "metadata": {},
   "outputs": [
    {
     "data": {
      "text/html": [
       "<div>\n",
       "<style scoped>\n",
       "    .dataframe tbody tr th:only-of-type {\n",
       "        vertical-align: middle;\n",
       "    }\n",
       "\n",
       "    .dataframe tbody tr th {\n",
       "        vertical-align: top;\n",
       "    }\n",
       "\n",
       "    .dataframe thead th {\n",
       "        text-align: right;\n",
       "    }\n",
       "</style>\n",
       "<table border=\"1\" class=\"dataframe\">\n",
       "  <thead>\n",
       "    <tr style=\"text-align: right;\">\n",
       "      <th></th>\n",
       "      <th>Item_Identifier</th>\n",
       "      <th>Item_Weight</th>\n",
       "      <th>Item_Fat_Content</th>\n",
       "      <th>Item_Visibility</th>\n",
       "      <th>Item_Type</th>\n",
       "      <th>Item_MRP</th>\n",
       "      <th>Outlet_Identifier</th>\n",
       "      <th>Outlet_Establishment_Year</th>\n",
       "      <th>Outlet_Size</th>\n",
       "      <th>Outlet_Location_Type</th>\n",
       "      <th>Outlet_Type</th>\n",
       "      <th>Item_Outlet_Sales</th>\n",
       "    </tr>\n",
       "  </thead>\n",
       "  <tbody>\n",
       "    <tr>\n",
       "      <th>0</th>\n",
       "      <td>FDA15</td>\n",
       "      <td>9.30</td>\n",
       "      <td>Low Fat</td>\n",
       "      <td>0.016047</td>\n",
       "      <td>Dairy</td>\n",
       "      <td>249.8092</td>\n",
       "      <td>OUT049</td>\n",
       "      <td>1999</td>\n",
       "      <td>Medium</td>\n",
       "      <td>Tier 1</td>\n",
       "      <td>Supermarket Type1</td>\n",
       "      <td>3735.1380</td>\n",
       "    </tr>\n",
       "    <tr>\n",
       "      <th>1</th>\n",
       "      <td>DRC01</td>\n",
       "      <td>5.92</td>\n",
       "      <td>Regular</td>\n",
       "      <td>0.019278</td>\n",
       "      <td>Soft Drinks</td>\n",
       "      <td>48.2692</td>\n",
       "      <td>OUT018</td>\n",
       "      <td>2009</td>\n",
       "      <td>Medium</td>\n",
       "      <td>Tier 3</td>\n",
       "      <td>Supermarket Type2</td>\n",
       "      <td>443.4228</td>\n",
       "    </tr>\n",
       "    <tr>\n",
       "      <th>2</th>\n",
       "      <td>FDN15</td>\n",
       "      <td>17.50</td>\n",
       "      <td>Low Fat</td>\n",
       "      <td>0.016760</td>\n",
       "      <td>Meat</td>\n",
       "      <td>141.6180</td>\n",
       "      <td>OUT049</td>\n",
       "      <td>1999</td>\n",
       "      <td>Medium</td>\n",
       "      <td>Tier 1</td>\n",
       "      <td>Supermarket Type1</td>\n",
       "      <td>2097.2700</td>\n",
       "    </tr>\n",
       "    <tr>\n",
       "      <th>3</th>\n",
       "      <td>FDX07</td>\n",
       "      <td>19.20</td>\n",
       "      <td>Regular</td>\n",
       "      <td>0.000000</td>\n",
       "      <td>Fruits and Vegetables</td>\n",
       "      <td>182.0950</td>\n",
       "      <td>OUT010</td>\n",
       "      <td>1998</td>\n",
       "      <td>NaN</td>\n",
       "      <td>Tier 3</td>\n",
       "      <td>Grocery Store</td>\n",
       "      <td>732.3800</td>\n",
       "    </tr>\n",
       "    <tr>\n",
       "      <th>4</th>\n",
       "      <td>NCD19</td>\n",
       "      <td>8.93</td>\n",
       "      <td>Low Fat</td>\n",
       "      <td>0.000000</td>\n",
       "      <td>Household</td>\n",
       "      <td>53.8614</td>\n",
       "      <td>OUT013</td>\n",
       "      <td>1987</td>\n",
       "      <td>High</td>\n",
       "      <td>Tier 3</td>\n",
       "      <td>Supermarket Type1</td>\n",
       "      <td>994.7052</td>\n",
       "    </tr>\n",
       "  </tbody>\n",
       "</table>\n",
       "</div>"
      ],
      "text/plain": [
       "  Item_Identifier  Item_Weight Item_Fat_Content  Item_Visibility  \\\n",
       "0           FDA15         9.30          Low Fat         0.016047   \n",
       "1           DRC01         5.92          Regular         0.019278   \n",
       "2           FDN15        17.50          Low Fat         0.016760   \n",
       "3           FDX07        19.20          Regular         0.000000   \n",
       "4           NCD19         8.93          Low Fat         0.000000   \n",
       "\n",
       "               Item_Type  Item_MRP Outlet_Identifier  \\\n",
       "0                  Dairy  249.8092            OUT049   \n",
       "1            Soft Drinks   48.2692            OUT018   \n",
       "2                   Meat  141.6180            OUT049   \n",
       "3  Fruits and Vegetables  182.0950            OUT010   \n",
       "4              Household   53.8614            OUT013   \n",
       "\n",
       "   Outlet_Establishment_Year Outlet_Size Outlet_Location_Type  \\\n",
       "0                       1999      Medium               Tier 1   \n",
       "1                       2009      Medium               Tier 3   \n",
       "2                       1999      Medium               Tier 1   \n",
       "3                       1998         NaN               Tier 3   \n",
       "4                       1987        High               Tier 3   \n",
       "\n",
       "         Outlet_Type  Item_Outlet_Sales  \n",
       "0  Supermarket Type1          3735.1380  \n",
       "1  Supermarket Type2           443.4228  \n",
       "2  Supermarket Type1          2097.2700  \n",
       "3      Grocery Store           732.3800  \n",
       "4  Supermarket Type1           994.7052  "
      ]
     },
     "execution_count": 21,
     "metadata": {},
     "output_type": "execute_result"
    }
   ],
   "source": [
    "# Lets load our data\n",
    "new_df = pd.read_csv('sales_predictions2.csv')\n",
    "new_df.head()"
   ]
  },
  {
   "cell_type": "code",
   "execution_count": 22,
   "metadata": {},
   "outputs": [
    {
     "name": "stdout",
     "output_type": "stream",
     "text": [
      "<class 'pandas.core.frame.DataFrame'>\n",
      "RangeIndex: 8523 entries, 0 to 8522\n",
      "Data columns (total 12 columns):\n",
      " #   Column                     Non-Null Count  Dtype  \n",
      "---  ------                     --------------  -----  \n",
      " 0   Item_Identifier            8523 non-null   object \n",
      " 1   Item_Weight                7060 non-null   float64\n",
      " 2   Item_Fat_Content           8523 non-null   object \n",
      " 3   Item_Visibility            8523 non-null   float64\n",
      " 4   Item_Type                  8523 non-null   object \n",
      " 5   Item_MRP                   8523 non-null   float64\n",
      " 6   Outlet_Identifier          8523 non-null   object \n",
      " 7   Outlet_Establishment_Year  8523 non-null   int64  \n",
      " 8   Outlet_Size                6113 non-null   object \n",
      " 9   Outlet_Location_Type       8523 non-null   object \n",
      " 10  Outlet_Type                8523 non-null   object \n",
      " 11  Item_Outlet_Sales          8523 non-null   float64\n",
      "dtypes: float64(4), int64(1), object(7)\n",
      "memory usage: 799.2+ KB\n"
     ]
    }
   ],
   "source": [
    "# Lets check our data\n",
    "new_df.info()"
   ]
  },
  {
   "cell_type": "markdown",
   "metadata": {},
   "source": [
    "### Before splitting your data, you can drop duplicates and fix inconsistencies in categorical data."
   ]
  },
  {
   "cell_type": "code",
   "execution_count": 23,
   "metadata": {},
   "outputs": [
    {
     "data": {
      "text/plain": [
       "Item_Identifier                 0\n",
       "Item_Weight                  1463\n",
       "Item_Fat_Content                0\n",
       "Item_Visibility                 0\n",
       "Item_Type                       0\n",
       "Item_MRP                        0\n",
       "Outlet_Identifier               0\n",
       "Outlet_Establishment_Year       0\n",
       "Outlet_Size                  2410\n",
       "Outlet_Location_Type            0\n",
       "Outlet_Type                     0\n",
       "Item_Outlet_Sales               0\n",
       "dtype: int64"
      ]
     },
     "execution_count": 23,
     "metadata": {},
     "output_type": "execute_result"
    }
   ],
   "source": [
    "# Lets check for missing data\n",
    "new_df.isna().sum()"
   ]
  },
  {
   "cell_type": "code",
   "execution_count": 24,
   "metadata": {},
   "outputs": [
    {
     "data": {
      "text/plain": [
       "0"
      ]
     },
     "execution_count": 24,
     "metadata": {},
     "output_type": "execute_result"
    }
   ],
   "source": [
    "new_df.duplicated().sum()"
   ]
  },
  {
   "cell_type": "code",
   "execution_count": 25,
   "metadata": {},
   "outputs": [
    {
     "name": "stdout",
     "output_type": "stream",
     "text": [
      "FDW13    10\n",
      "FDG33    10\n",
      "NCY18     9\n",
      "FDD38     9\n",
      "DRE49     9\n",
      "         ..\n",
      "FDY43     1\n",
      "FDQ60     1\n",
      "FDO33     1\n",
      "DRF48     1\n",
      "FDC23     1\n",
      "Name: Item_Identifier, Length: 1559, dtype: int64 \n",
      "\n",
      "\n",
      "Low Fat    5517\n",
      "Regular    3006\n",
      "Name: Item_Fat_Content, dtype: int64 \n",
      "\n",
      "\n",
      "Fruits and Vegetables    1232\n",
      "Snack Foods              1200\n",
      "Household                 910\n",
      "Frozen Foods              856\n",
      "Dairy                     682\n",
      "Canned                    649\n",
      "Baking Goods              648\n",
      "Health and Hygiene        520\n",
      "Soft Drinks               445\n",
      "Meat                      425\n",
      "Breads                    251\n",
      "Hard Drinks               214\n",
      "Others                    169\n",
      "Starchy Foods             148\n",
      "Breakfast                 110\n",
      "Seafood                    64\n",
      "Name: Item_Type, dtype: int64 \n",
      "\n",
      "\n",
      "OUT027    935\n",
      "OUT013    932\n",
      "OUT049    930\n",
      "OUT046    930\n",
      "OUT035    930\n",
      "OUT045    929\n",
      "OUT018    928\n",
      "OUT017    926\n",
      "OUT010    555\n",
      "OUT019    528\n",
      "Name: Outlet_Identifier, dtype: int64 \n",
      "\n",
      "\n",
      "Medium     2793\n",
      "Missing    2410\n",
      "Small      2388\n",
      "High        932\n",
      "Name: Outlet_Size, dtype: int64 \n",
      "\n",
      "\n",
      "Tier 3    3350\n",
      "Tier 2    2785\n",
      "Tier 1    2388\n",
      "Name: Outlet_Location_Type, dtype: int64 \n",
      "\n",
      "\n",
      "Supermarket Type1    5577\n",
      "Grocery Store        1083\n",
      "Supermarket Type3     935\n",
      "Supermarket Type2     928\n",
      "Name: Outlet_Type, dtype: int64 \n",
      "\n",
      "\n"
     ]
    }
   ],
   "source": [
    "# Lets loop trough our object to see what we have\n",
    "cols = new_df.columns\n",
    "for col in cols:\n",
    "    if df_copy[col].dtype == 'object':\n",
    "        print(df_copy[col].value_counts(),'\\n\\n')"
   ]
  },
  {
   "cell_type": "markdown",
   "metadata": {},
   "source": [
    "### We see in above there some ordenal object so we can replace them with \"0\" and \"1\""
   ]
  },
  {
   "cell_type": "code",
   "execution_count": 26,
   "metadata": {},
   "outputs": [
    {
     "data": {
      "text/plain": [
       "Low Fat    5089\n",
       "Regular    2889\n",
       "LF          316\n",
       "reg         117\n",
       "low fat     112\n",
       "Name: Item_Fat_Content, dtype: int64"
      ]
     },
     "execution_count": 26,
     "metadata": {},
     "output_type": "execute_result"
    }
   ],
   "source": [
    "# Lets work with ordianl columns\n",
    "new_df['Item_Fat_Content'].value_counts()"
   ]
  },
  {
   "cell_type": "markdown",
   "metadata": {},
   "source": [
    "#### Lets replace them with \n",
    "* Low Fat -> 0\n",
    "* Regular -> 1"
   ]
  },
  {
   "cell_type": "code",
   "execution_count": 27,
   "metadata": {},
   "outputs": [
    {
     "data": {
      "text/plain": [
       "0    5517\n",
       "1    3006\n",
       "Name: Item_Fat_Content, dtype: int64"
      ]
     },
     "execution_count": 27,
     "metadata": {},
     "output_type": "execute_result"
    }
   ],
   "source": [
    "new_df['Item_Fat_Content'].replace({'Low Fat': 0, 'Regular': 1, 'LF':0, 'reg':1,'low fat':0}, inplace=True)\n",
    "new_df['Item_Fat_Content'].value_counts()"
   ]
  },
  {
   "cell_type": "code",
   "execution_count": 28,
   "metadata": {},
   "outputs": [
    {
     "data": {
      "text/plain": [
       "Tier 3    3350\n",
       "Tier 2    2785\n",
       "Tier 1    2388\n",
       "Name: Outlet_Location_Type, dtype: int64"
      ]
     },
     "execution_count": 28,
     "metadata": {},
     "output_type": "execute_result"
    }
   ],
   "source": [
    "new_df['Outlet_Location_Type'].value_counts()"
   ]
  },
  {
   "cell_type": "markdown",
   "metadata": {},
   "source": [
    "#### Lets replace them with\n",
    "* Tier 3 -> 2\n",
    "* Tier 2 -> 1\n",
    "* Tier 1 -> 0"
   ]
  },
  {
   "cell_type": "code",
   "execution_count": 29,
   "metadata": {},
   "outputs": [
    {
     "data": {
      "text/plain": [
       "2    3350\n",
       "1    2785\n",
       "0    2388\n",
       "Name: Outlet_Location_Type, dtype: int64"
      ]
     },
     "execution_count": 29,
     "metadata": {},
     "output_type": "execute_result"
    }
   ],
   "source": [
    "new_df['Outlet_Location_Type'].replace({'Tier 1':0,'Tier 2':1,'Tier 3':2}, inplace=True)\n",
    "new_df['Outlet_Location_Type'].value_counts()"
   ]
  },
  {
   "cell_type": "code",
   "execution_count": 30,
   "metadata": {},
   "outputs": [
    {
     "name": "stdout",
     "output_type": "stream",
     "text": [
      "<class 'pandas.core.frame.DataFrame'>\n",
      "RangeIndex: 8523 entries, 0 to 8522\n",
      "Data columns (total 12 columns):\n",
      " #   Column                     Non-Null Count  Dtype  \n",
      "---  ------                     --------------  -----  \n",
      " 0   Item_Identifier            8523 non-null   object \n",
      " 1   Item_Weight                7060 non-null   float64\n",
      " 2   Item_Fat_Content           8523 non-null   int64  \n",
      " 3   Item_Visibility            8523 non-null   float64\n",
      " 4   Item_Type                  8523 non-null   object \n",
      " 5   Item_MRP                   8523 non-null   float64\n",
      " 6   Outlet_Identifier          8523 non-null   object \n",
      " 7   Outlet_Establishment_Year  8523 non-null   int64  \n",
      " 8   Outlet_Size                6113 non-null   object \n",
      " 9   Outlet_Location_Type       8523 non-null   int64  \n",
      " 10  Outlet_Type                8523 non-null   object \n",
      " 11  Item_Outlet_Sales          8523 non-null   float64\n",
      "dtypes: float64(4), int64(3), object(5)\n",
      "memory usage: 799.2+ KB\n"
     ]
    }
   ],
   "source": [
    "new_df.info()"
   ]
  },
  {
   "cell_type": "markdown",
   "metadata": {},
   "source": [
    "### Identify the features (X) and target (y): Assign the \"Item_Outlet_Sales\" column as your target and the rest of the relevant variables as your features matrix."
   ]
  },
  {
   "cell_type": "code",
   "execution_count": 31,
   "metadata": {},
   "outputs": [],
   "source": [
    "# Lets import our packeges from sklearn!\n",
    "from sklearn.model_selection import train_test_split\n",
    "from sklearn.compose import make_column_selector, make_column_transformer\n",
    "from sklearn.preprocessing import OneHotEncoder, StandardScaler\n",
    "from sklearn.impute import SimpleImputer\n",
    "from sklearn import set_config\n",
    "from sklearn.pipeline import make_pipeline\n",
    "set_config(display='diagram')"
   ]
  },
  {
   "cell_type": "code",
   "execution_count": 32,
   "metadata": {},
   "outputs": [],
   "source": [
    "# Lets make a copy our data\n",
    "new_copy = new_df"
   ]
  },
  {
   "cell_type": "code",
   "execution_count": 52,
   "metadata": {},
   "outputs": [],
   "source": [
    "new_df.drop(columns='Item_Identifier', inplace=True)\n",
    "# Now lets split to X and y\n",
    "X = new_df.drop(columns='Item_Outlet_Sales')\n",
    "y = new_df['Item_Outlet_Sales']\n",
    "\n",
    "X_train, X_test, y_train, y_test = train_test_split(X, y, random_state=42)"
   ]
  },
  {
   "cell_type": "code",
   "execution_count": 53,
   "metadata": {},
   "outputs": [
    {
     "data": {
      "text/plain": [
       "Item_Weight                  1463\n",
       "Item_Fat_Content                0\n",
       "Item_Visibility                 0\n",
       "Item_Type                       0\n",
       "Item_MRP                        0\n",
       "Outlet_Identifier               0\n",
       "Outlet_Establishment_Year       0\n",
       "Outlet_Size                  2410\n",
       "Outlet_Location_Type            0\n",
       "Outlet_Type                     0\n",
       "Item_Outlet_Sales               0\n",
       "dtype: int64"
      ]
     },
     "execution_count": 53,
     "metadata": {},
     "output_type": "execute_result"
    }
   ],
   "source": [
    "# Lets work with missing values!\n",
    "new_df.isna().sum()"
   ]
  },
  {
   "cell_type": "markdown",
   "metadata": {},
   "source": [
    "### Create a preprocessing object to prepare the dataset for Machine Learning"
   ]
  },
  {
   "cell_type": "code",
   "execution_count": 54,
   "metadata": {},
   "outputs": [],
   "source": [
    "# In this case lets use SimpleImputer with ColumnTransformer\n",
    "# Because we have a numerical and categorical data\n",
    "# Lets instantiate numerical and categorical data types\n",
    "num_selector = make_column_selector(dtype_include='number')\n",
    "cat_selector = make_column_selector(dtype_include='object')"
   ]
  },
  {
   "cell_type": "code",
   "execution_count": 55,
   "metadata": {},
   "outputs": [],
   "source": [
    "# Instantiate Imputers\n",
    "# For our categorical data we will use \"most_frequent\"\n",
    "freq_imputer = SimpleImputer(strategy='most_frequent')\n",
    "\n",
    "# For our numerical data we will use \"median\"\n",
    "median_imputer = SimpleImputer(strategy='median')\n",
    "\n",
    "# Scaler\n",
    "scaler = StandardScaler()\n",
    "\n",
    "# One-Hot ecoder\n",
    "ohe = OneHotEncoder(handle_unknown='ignore', sparse=False)"
   ]
  },
  {
   "cell_type": "code",
   "execution_count": 56,
   "metadata": {},
   "outputs": [
    {
     "data": {
      "text/html": [
       "<style>#sk-c15e7336-44b2-4695-afff-6f71a918b2be {color: black;background-color: white;}#sk-c15e7336-44b2-4695-afff-6f71a918b2be pre{padding: 0;}#sk-c15e7336-44b2-4695-afff-6f71a918b2be div.sk-toggleable {background-color: white;}#sk-c15e7336-44b2-4695-afff-6f71a918b2be label.sk-toggleable__label {cursor: pointer;display: block;width: 100%;margin-bottom: 0;padding: 0.3em;box-sizing: border-box;text-align: center;}#sk-c15e7336-44b2-4695-afff-6f71a918b2be label.sk-toggleable__label-arrow:before {content: \"▸\";float: left;margin-right: 0.25em;color: #696969;}#sk-c15e7336-44b2-4695-afff-6f71a918b2be label.sk-toggleable__label-arrow:hover:before {color: black;}#sk-c15e7336-44b2-4695-afff-6f71a918b2be div.sk-estimator:hover label.sk-toggleable__label-arrow:before {color: black;}#sk-c15e7336-44b2-4695-afff-6f71a918b2be div.sk-toggleable__content {max-height: 0;max-width: 0;overflow: hidden;text-align: left;background-color: #f0f8ff;}#sk-c15e7336-44b2-4695-afff-6f71a918b2be div.sk-toggleable__content pre {margin: 0.2em;color: black;border-radius: 0.25em;background-color: #f0f8ff;}#sk-c15e7336-44b2-4695-afff-6f71a918b2be input.sk-toggleable__control:checked~div.sk-toggleable__content {max-height: 200px;max-width: 100%;overflow: auto;}#sk-c15e7336-44b2-4695-afff-6f71a918b2be input.sk-toggleable__control:checked~label.sk-toggleable__label-arrow:before {content: \"▾\";}#sk-c15e7336-44b2-4695-afff-6f71a918b2be div.sk-estimator input.sk-toggleable__control:checked~label.sk-toggleable__label {background-color: #d4ebff;}#sk-c15e7336-44b2-4695-afff-6f71a918b2be div.sk-label input.sk-toggleable__control:checked~label.sk-toggleable__label {background-color: #d4ebff;}#sk-c15e7336-44b2-4695-afff-6f71a918b2be input.sk-hidden--visually {border: 0;clip: rect(1px 1px 1px 1px);clip: rect(1px, 1px, 1px, 1px);height: 1px;margin: -1px;overflow: hidden;padding: 0;position: absolute;width: 1px;}#sk-c15e7336-44b2-4695-afff-6f71a918b2be div.sk-estimator {font-family: monospace;background-color: #f0f8ff;border: 1px dotted black;border-radius: 0.25em;box-sizing: border-box;margin-bottom: 0.5em;}#sk-c15e7336-44b2-4695-afff-6f71a918b2be div.sk-estimator:hover {background-color: #d4ebff;}#sk-c15e7336-44b2-4695-afff-6f71a918b2be div.sk-parallel-item::after {content: \"\";width: 100%;border-bottom: 1px solid gray;flex-grow: 1;}#sk-c15e7336-44b2-4695-afff-6f71a918b2be div.sk-label:hover label.sk-toggleable__label {background-color: #d4ebff;}#sk-c15e7336-44b2-4695-afff-6f71a918b2be div.sk-serial::before {content: \"\";position: absolute;border-left: 1px solid gray;box-sizing: border-box;top: 2em;bottom: 0;left: 50%;}#sk-c15e7336-44b2-4695-afff-6f71a918b2be div.sk-serial {display: flex;flex-direction: column;align-items: center;background-color: white;padding-right: 0.2em;padding-left: 0.2em;}#sk-c15e7336-44b2-4695-afff-6f71a918b2be div.sk-item {z-index: 1;}#sk-c15e7336-44b2-4695-afff-6f71a918b2be div.sk-parallel {display: flex;align-items: stretch;justify-content: center;background-color: white;}#sk-c15e7336-44b2-4695-afff-6f71a918b2be div.sk-parallel::before {content: \"\";position: absolute;border-left: 1px solid gray;box-sizing: border-box;top: 2em;bottom: 0;left: 50%;}#sk-c15e7336-44b2-4695-afff-6f71a918b2be div.sk-parallel-item {display: flex;flex-direction: column;position: relative;background-color: white;}#sk-c15e7336-44b2-4695-afff-6f71a918b2be div.sk-parallel-item:first-child::after {align-self: flex-end;width: 50%;}#sk-c15e7336-44b2-4695-afff-6f71a918b2be div.sk-parallel-item:last-child::after {align-self: flex-start;width: 50%;}#sk-c15e7336-44b2-4695-afff-6f71a918b2be div.sk-parallel-item:only-child::after {width: 0;}#sk-c15e7336-44b2-4695-afff-6f71a918b2be div.sk-dashed-wrapped {border: 1px dashed gray;margin: 0 0.4em 0.5em 0.4em;box-sizing: border-box;padding-bottom: 0.4em;background-color: white;position: relative;}#sk-c15e7336-44b2-4695-afff-6f71a918b2be div.sk-label label {font-family: monospace;font-weight: bold;background-color: white;display: inline-block;line-height: 1.2em;}#sk-c15e7336-44b2-4695-afff-6f71a918b2be div.sk-label-container {position: relative;z-index: 2;text-align: center;}#sk-c15e7336-44b2-4695-afff-6f71a918b2be div.sk-container {/* jupyter's `normalize.less` sets `[hidden] { display: none; }` but bootstrap.min.css set `[hidden] { display: none !important; }` so we also need the `!important` here to be able to override the default hidden behavior on the sphinx rendered scikit-learn.org. See: https://github.com/scikit-learn/scikit-learn/issues/21755 */display: inline-block !important;position: relative;}#sk-c15e7336-44b2-4695-afff-6f71a918b2be div.sk-text-repr-fallback {display: none;}</style><div id=\"sk-c15e7336-44b2-4695-afff-6f71a918b2be\" class=\"sk-top-container\"><div class=\"sk-text-repr-fallback\"><pre>Pipeline(steps=[(&#x27;simpleimputer&#x27;, SimpleImputer(strategy=&#x27;median&#x27;)),\n",
       "                (&#x27;standardscaler&#x27;, StandardScaler())])</pre><b>Please rerun this cell to show the HTML repr or trust the notebook.</b></div><div class=\"sk-container\" hidden><div class=\"sk-item sk-dashed-wrapped\"><div class=\"sk-label-container\"><div class=\"sk-label sk-toggleable\"><input class=\"sk-toggleable__control sk-hidden--visually\" id=\"6b9e4c88-9390-4157-aa58-880dc7132a9d\" type=\"checkbox\" ><label for=\"6b9e4c88-9390-4157-aa58-880dc7132a9d\" class=\"sk-toggleable__label sk-toggleable__label-arrow\">Pipeline</label><div class=\"sk-toggleable__content\"><pre>Pipeline(steps=[(&#x27;simpleimputer&#x27;, SimpleImputer(strategy=&#x27;median&#x27;)),\n",
       "                (&#x27;standardscaler&#x27;, StandardScaler())])</pre></div></div></div><div class=\"sk-serial\"><div class=\"sk-item\"><div class=\"sk-estimator sk-toggleable\"><input class=\"sk-toggleable__control sk-hidden--visually\" id=\"a34d2db6-1b40-43a0-b5d7-b9d5ef95f459\" type=\"checkbox\" ><label for=\"a34d2db6-1b40-43a0-b5d7-b9d5ef95f459\" class=\"sk-toggleable__label sk-toggleable__label-arrow\">SimpleImputer</label><div class=\"sk-toggleable__content\"><pre>SimpleImputer(strategy=&#x27;median&#x27;)</pre></div></div></div><div class=\"sk-item\"><div class=\"sk-estimator sk-toggleable\"><input class=\"sk-toggleable__control sk-hidden--visually\" id=\"3bc61e1d-78c1-4f74-aa43-c2e70b008dc0\" type=\"checkbox\" ><label for=\"3bc61e1d-78c1-4f74-aa43-c2e70b008dc0\" class=\"sk-toggleable__label sk-toggleable__label-arrow\">StandardScaler</label><div class=\"sk-toggleable__content\"><pre>StandardScaler()</pre></div></div></div></div></div></div></div>"
      ],
      "text/plain": [
       "Pipeline(steps=[('simpleimputer', SimpleImputer(strategy='median')),\n",
       "                ('standardscaler', StandardScaler())])"
      ]
     },
     "execution_count": 56,
     "metadata": {},
     "output_type": "execute_result"
    }
   ],
   "source": [
    "# Numeric pipline\n",
    "numeric_pipe = make_pipeline(median_imputer, scaler)\n",
    "numeric_pipe"
   ]
  },
  {
   "cell_type": "code",
   "execution_count": 57,
   "metadata": {},
   "outputs": [
    {
     "data": {
      "text/html": [
       "<style>#sk-c997d1f3-593a-4c1e-83fe-ad8d7669540f {color: black;background-color: white;}#sk-c997d1f3-593a-4c1e-83fe-ad8d7669540f pre{padding: 0;}#sk-c997d1f3-593a-4c1e-83fe-ad8d7669540f div.sk-toggleable {background-color: white;}#sk-c997d1f3-593a-4c1e-83fe-ad8d7669540f label.sk-toggleable__label {cursor: pointer;display: block;width: 100%;margin-bottom: 0;padding: 0.3em;box-sizing: border-box;text-align: center;}#sk-c997d1f3-593a-4c1e-83fe-ad8d7669540f label.sk-toggleable__label-arrow:before {content: \"▸\";float: left;margin-right: 0.25em;color: #696969;}#sk-c997d1f3-593a-4c1e-83fe-ad8d7669540f label.sk-toggleable__label-arrow:hover:before {color: black;}#sk-c997d1f3-593a-4c1e-83fe-ad8d7669540f div.sk-estimator:hover label.sk-toggleable__label-arrow:before {color: black;}#sk-c997d1f3-593a-4c1e-83fe-ad8d7669540f div.sk-toggleable__content {max-height: 0;max-width: 0;overflow: hidden;text-align: left;background-color: #f0f8ff;}#sk-c997d1f3-593a-4c1e-83fe-ad8d7669540f div.sk-toggleable__content pre {margin: 0.2em;color: black;border-radius: 0.25em;background-color: #f0f8ff;}#sk-c997d1f3-593a-4c1e-83fe-ad8d7669540f input.sk-toggleable__control:checked~div.sk-toggleable__content {max-height: 200px;max-width: 100%;overflow: auto;}#sk-c997d1f3-593a-4c1e-83fe-ad8d7669540f input.sk-toggleable__control:checked~label.sk-toggleable__label-arrow:before {content: \"▾\";}#sk-c997d1f3-593a-4c1e-83fe-ad8d7669540f div.sk-estimator input.sk-toggleable__control:checked~label.sk-toggleable__label {background-color: #d4ebff;}#sk-c997d1f3-593a-4c1e-83fe-ad8d7669540f div.sk-label input.sk-toggleable__control:checked~label.sk-toggleable__label {background-color: #d4ebff;}#sk-c997d1f3-593a-4c1e-83fe-ad8d7669540f input.sk-hidden--visually {border: 0;clip: rect(1px 1px 1px 1px);clip: rect(1px, 1px, 1px, 1px);height: 1px;margin: -1px;overflow: hidden;padding: 0;position: absolute;width: 1px;}#sk-c997d1f3-593a-4c1e-83fe-ad8d7669540f div.sk-estimator {font-family: monospace;background-color: #f0f8ff;border: 1px dotted black;border-radius: 0.25em;box-sizing: border-box;margin-bottom: 0.5em;}#sk-c997d1f3-593a-4c1e-83fe-ad8d7669540f div.sk-estimator:hover {background-color: #d4ebff;}#sk-c997d1f3-593a-4c1e-83fe-ad8d7669540f div.sk-parallel-item::after {content: \"\";width: 100%;border-bottom: 1px solid gray;flex-grow: 1;}#sk-c997d1f3-593a-4c1e-83fe-ad8d7669540f div.sk-label:hover label.sk-toggleable__label {background-color: #d4ebff;}#sk-c997d1f3-593a-4c1e-83fe-ad8d7669540f div.sk-serial::before {content: \"\";position: absolute;border-left: 1px solid gray;box-sizing: border-box;top: 2em;bottom: 0;left: 50%;}#sk-c997d1f3-593a-4c1e-83fe-ad8d7669540f div.sk-serial {display: flex;flex-direction: column;align-items: center;background-color: white;padding-right: 0.2em;padding-left: 0.2em;}#sk-c997d1f3-593a-4c1e-83fe-ad8d7669540f div.sk-item {z-index: 1;}#sk-c997d1f3-593a-4c1e-83fe-ad8d7669540f div.sk-parallel {display: flex;align-items: stretch;justify-content: center;background-color: white;}#sk-c997d1f3-593a-4c1e-83fe-ad8d7669540f div.sk-parallel::before {content: \"\";position: absolute;border-left: 1px solid gray;box-sizing: border-box;top: 2em;bottom: 0;left: 50%;}#sk-c997d1f3-593a-4c1e-83fe-ad8d7669540f div.sk-parallel-item {display: flex;flex-direction: column;position: relative;background-color: white;}#sk-c997d1f3-593a-4c1e-83fe-ad8d7669540f div.sk-parallel-item:first-child::after {align-self: flex-end;width: 50%;}#sk-c997d1f3-593a-4c1e-83fe-ad8d7669540f div.sk-parallel-item:last-child::after {align-self: flex-start;width: 50%;}#sk-c997d1f3-593a-4c1e-83fe-ad8d7669540f div.sk-parallel-item:only-child::after {width: 0;}#sk-c997d1f3-593a-4c1e-83fe-ad8d7669540f div.sk-dashed-wrapped {border: 1px dashed gray;margin: 0 0.4em 0.5em 0.4em;box-sizing: border-box;padding-bottom: 0.4em;background-color: white;position: relative;}#sk-c997d1f3-593a-4c1e-83fe-ad8d7669540f div.sk-label label {font-family: monospace;font-weight: bold;background-color: white;display: inline-block;line-height: 1.2em;}#sk-c997d1f3-593a-4c1e-83fe-ad8d7669540f div.sk-label-container {position: relative;z-index: 2;text-align: center;}#sk-c997d1f3-593a-4c1e-83fe-ad8d7669540f div.sk-container {/* jupyter's `normalize.less` sets `[hidden] { display: none; }` but bootstrap.min.css set `[hidden] { display: none !important; }` so we also need the `!important` here to be able to override the default hidden behavior on the sphinx rendered scikit-learn.org. See: https://github.com/scikit-learn/scikit-learn/issues/21755 */display: inline-block !important;position: relative;}#sk-c997d1f3-593a-4c1e-83fe-ad8d7669540f div.sk-text-repr-fallback {display: none;}</style><div id=\"sk-c997d1f3-593a-4c1e-83fe-ad8d7669540f\" class=\"sk-top-container\"><div class=\"sk-text-repr-fallback\"><pre>Pipeline(steps=[(&#x27;simpleimputer&#x27;, SimpleImputer(strategy=&#x27;most_frequent&#x27;)),\n",
       "                (&#x27;onehotencoder&#x27;,\n",
       "                 OneHotEncoder(handle_unknown=&#x27;ignore&#x27;, sparse=False))])</pre><b>Please rerun this cell to show the HTML repr or trust the notebook.</b></div><div class=\"sk-container\" hidden><div class=\"sk-item sk-dashed-wrapped\"><div class=\"sk-label-container\"><div class=\"sk-label sk-toggleable\"><input class=\"sk-toggleable__control sk-hidden--visually\" id=\"a9d1c0ca-1fe0-41d5-90d2-62e6b2842782\" type=\"checkbox\" ><label for=\"a9d1c0ca-1fe0-41d5-90d2-62e6b2842782\" class=\"sk-toggleable__label sk-toggleable__label-arrow\">Pipeline</label><div class=\"sk-toggleable__content\"><pre>Pipeline(steps=[(&#x27;simpleimputer&#x27;, SimpleImputer(strategy=&#x27;most_frequent&#x27;)),\n",
       "                (&#x27;onehotencoder&#x27;,\n",
       "                 OneHotEncoder(handle_unknown=&#x27;ignore&#x27;, sparse=False))])</pre></div></div></div><div class=\"sk-serial\"><div class=\"sk-item\"><div class=\"sk-estimator sk-toggleable\"><input class=\"sk-toggleable__control sk-hidden--visually\" id=\"eef1333c-03ff-4703-8ff6-e8e017ef9a30\" type=\"checkbox\" ><label for=\"eef1333c-03ff-4703-8ff6-e8e017ef9a30\" class=\"sk-toggleable__label sk-toggleable__label-arrow\">SimpleImputer</label><div class=\"sk-toggleable__content\"><pre>SimpleImputer(strategy=&#x27;most_frequent&#x27;)</pre></div></div></div><div class=\"sk-item\"><div class=\"sk-estimator sk-toggleable\"><input class=\"sk-toggleable__control sk-hidden--visually\" id=\"3bb12d82-b88d-4e0d-a68e-4a0f47e3ac18\" type=\"checkbox\" ><label for=\"3bb12d82-b88d-4e0d-a68e-4a0f47e3ac18\" class=\"sk-toggleable__label sk-toggleable__label-arrow\">OneHotEncoder</label><div class=\"sk-toggleable__content\"><pre>OneHotEncoder(handle_unknown=&#x27;ignore&#x27;, sparse=False)</pre></div></div></div></div></div></div></div>"
      ],
      "text/plain": [
       "Pipeline(steps=[('simpleimputer', SimpleImputer(strategy='most_frequent')),\n",
       "                ('onehotencoder',\n",
       "                 OneHotEncoder(handle_unknown='ignore', sparse=False))])"
      ]
     },
     "execution_count": 57,
     "metadata": {},
     "output_type": "execute_result"
    }
   ],
   "source": [
    "# Categorical pipeline\n",
    "categorical_pipe = make_pipeline(freq_imputer, ohe)\n",
    "categorical_pipe"
   ]
  },
  {
   "cell_type": "code",
   "execution_count": 58,
   "metadata": {},
   "outputs": [
    {
     "data": {
      "text/html": [
       "<style>#sk-f0699ead-1de1-4cca-991f-34901401ff65 {color: black;background-color: white;}#sk-f0699ead-1de1-4cca-991f-34901401ff65 pre{padding: 0;}#sk-f0699ead-1de1-4cca-991f-34901401ff65 div.sk-toggleable {background-color: white;}#sk-f0699ead-1de1-4cca-991f-34901401ff65 label.sk-toggleable__label {cursor: pointer;display: block;width: 100%;margin-bottom: 0;padding: 0.3em;box-sizing: border-box;text-align: center;}#sk-f0699ead-1de1-4cca-991f-34901401ff65 label.sk-toggleable__label-arrow:before {content: \"▸\";float: left;margin-right: 0.25em;color: #696969;}#sk-f0699ead-1de1-4cca-991f-34901401ff65 label.sk-toggleable__label-arrow:hover:before {color: black;}#sk-f0699ead-1de1-4cca-991f-34901401ff65 div.sk-estimator:hover label.sk-toggleable__label-arrow:before {color: black;}#sk-f0699ead-1de1-4cca-991f-34901401ff65 div.sk-toggleable__content {max-height: 0;max-width: 0;overflow: hidden;text-align: left;background-color: #f0f8ff;}#sk-f0699ead-1de1-4cca-991f-34901401ff65 div.sk-toggleable__content pre {margin: 0.2em;color: black;border-radius: 0.25em;background-color: #f0f8ff;}#sk-f0699ead-1de1-4cca-991f-34901401ff65 input.sk-toggleable__control:checked~div.sk-toggleable__content {max-height: 200px;max-width: 100%;overflow: auto;}#sk-f0699ead-1de1-4cca-991f-34901401ff65 input.sk-toggleable__control:checked~label.sk-toggleable__label-arrow:before {content: \"▾\";}#sk-f0699ead-1de1-4cca-991f-34901401ff65 div.sk-estimator input.sk-toggleable__control:checked~label.sk-toggleable__label {background-color: #d4ebff;}#sk-f0699ead-1de1-4cca-991f-34901401ff65 div.sk-label input.sk-toggleable__control:checked~label.sk-toggleable__label {background-color: #d4ebff;}#sk-f0699ead-1de1-4cca-991f-34901401ff65 input.sk-hidden--visually {border: 0;clip: rect(1px 1px 1px 1px);clip: rect(1px, 1px, 1px, 1px);height: 1px;margin: -1px;overflow: hidden;padding: 0;position: absolute;width: 1px;}#sk-f0699ead-1de1-4cca-991f-34901401ff65 div.sk-estimator {font-family: monospace;background-color: #f0f8ff;border: 1px dotted black;border-radius: 0.25em;box-sizing: border-box;margin-bottom: 0.5em;}#sk-f0699ead-1de1-4cca-991f-34901401ff65 div.sk-estimator:hover {background-color: #d4ebff;}#sk-f0699ead-1de1-4cca-991f-34901401ff65 div.sk-parallel-item::after {content: \"\";width: 100%;border-bottom: 1px solid gray;flex-grow: 1;}#sk-f0699ead-1de1-4cca-991f-34901401ff65 div.sk-label:hover label.sk-toggleable__label {background-color: #d4ebff;}#sk-f0699ead-1de1-4cca-991f-34901401ff65 div.sk-serial::before {content: \"\";position: absolute;border-left: 1px solid gray;box-sizing: border-box;top: 2em;bottom: 0;left: 50%;}#sk-f0699ead-1de1-4cca-991f-34901401ff65 div.sk-serial {display: flex;flex-direction: column;align-items: center;background-color: white;padding-right: 0.2em;padding-left: 0.2em;}#sk-f0699ead-1de1-4cca-991f-34901401ff65 div.sk-item {z-index: 1;}#sk-f0699ead-1de1-4cca-991f-34901401ff65 div.sk-parallel {display: flex;align-items: stretch;justify-content: center;background-color: white;}#sk-f0699ead-1de1-4cca-991f-34901401ff65 div.sk-parallel::before {content: \"\";position: absolute;border-left: 1px solid gray;box-sizing: border-box;top: 2em;bottom: 0;left: 50%;}#sk-f0699ead-1de1-4cca-991f-34901401ff65 div.sk-parallel-item {display: flex;flex-direction: column;position: relative;background-color: white;}#sk-f0699ead-1de1-4cca-991f-34901401ff65 div.sk-parallel-item:first-child::after {align-self: flex-end;width: 50%;}#sk-f0699ead-1de1-4cca-991f-34901401ff65 div.sk-parallel-item:last-child::after {align-self: flex-start;width: 50%;}#sk-f0699ead-1de1-4cca-991f-34901401ff65 div.sk-parallel-item:only-child::after {width: 0;}#sk-f0699ead-1de1-4cca-991f-34901401ff65 div.sk-dashed-wrapped {border: 1px dashed gray;margin: 0 0.4em 0.5em 0.4em;box-sizing: border-box;padding-bottom: 0.4em;background-color: white;position: relative;}#sk-f0699ead-1de1-4cca-991f-34901401ff65 div.sk-label label {font-family: monospace;font-weight: bold;background-color: white;display: inline-block;line-height: 1.2em;}#sk-f0699ead-1de1-4cca-991f-34901401ff65 div.sk-label-container {position: relative;z-index: 2;text-align: center;}#sk-f0699ead-1de1-4cca-991f-34901401ff65 div.sk-container {/* jupyter's `normalize.less` sets `[hidden] { display: none; }` but bootstrap.min.css set `[hidden] { display: none !important; }` so we also need the `!important` here to be able to override the default hidden behavior on the sphinx rendered scikit-learn.org. See: https://github.com/scikit-learn/scikit-learn/issues/21755 */display: inline-block !important;position: relative;}#sk-f0699ead-1de1-4cca-991f-34901401ff65 div.sk-text-repr-fallback {display: none;}</style><div id=\"sk-f0699ead-1de1-4cca-991f-34901401ff65\" class=\"sk-top-container\"><div class=\"sk-text-repr-fallback\"><pre>ColumnTransformer(transformers=[(&#x27;pipeline-1&#x27;,\n",
       "                                 Pipeline(steps=[(&#x27;simpleimputer&#x27;,\n",
       "                                                  SimpleImputer(strategy=&#x27;median&#x27;)),\n",
       "                                                 (&#x27;standardscaler&#x27;,\n",
       "                                                  StandardScaler())]),\n",
       "                                 &lt;sklearn.compose._column_transformer.make_column_selector object at 0x7fdd4c1baac0&gt;),\n",
       "                                (&#x27;pipeline-2&#x27;,\n",
       "                                 Pipeline(steps=[(&#x27;simpleimputer&#x27;,\n",
       "                                                  SimpleImputer(strategy=&#x27;most_frequent&#x27;)),\n",
       "                                                 (&#x27;onehotencoder&#x27;,\n",
       "                                                  OneHotEncoder(handle_unknown=&#x27;ignore&#x27;,\n",
       "                                                                sparse=False))]),\n",
       "                                 &lt;sklearn.compose._column_transformer.make_column_selector object at 0x7fdd3b5e0d60&gt;)])</pre><b>Please rerun this cell to show the HTML repr or trust the notebook.</b></div><div class=\"sk-container\" hidden><div class=\"sk-item sk-dashed-wrapped\"><div class=\"sk-label-container\"><div class=\"sk-label sk-toggleable\"><input class=\"sk-toggleable__control sk-hidden--visually\" id=\"20a4ec92-19c8-4556-95f3-ac46039d6b9d\" type=\"checkbox\" ><label for=\"20a4ec92-19c8-4556-95f3-ac46039d6b9d\" class=\"sk-toggleable__label sk-toggleable__label-arrow\">ColumnTransformer</label><div class=\"sk-toggleable__content\"><pre>ColumnTransformer(transformers=[(&#x27;pipeline-1&#x27;,\n",
       "                                 Pipeline(steps=[(&#x27;simpleimputer&#x27;,\n",
       "                                                  SimpleImputer(strategy=&#x27;median&#x27;)),\n",
       "                                                 (&#x27;standardscaler&#x27;,\n",
       "                                                  StandardScaler())]),\n",
       "                                 &lt;sklearn.compose._column_transformer.make_column_selector object at 0x7fdd4c1baac0&gt;),\n",
       "                                (&#x27;pipeline-2&#x27;,\n",
       "                                 Pipeline(steps=[(&#x27;simpleimputer&#x27;,\n",
       "                                                  SimpleImputer(strategy=&#x27;most_frequent&#x27;)),\n",
       "                                                 (&#x27;onehotencoder&#x27;,\n",
       "                                                  OneHotEncoder(handle_unknown=&#x27;ignore&#x27;,\n",
       "                                                                sparse=False))]),\n",
       "                                 &lt;sklearn.compose._column_transformer.make_column_selector object at 0x7fdd3b5e0d60&gt;)])</pre></div></div></div><div class=\"sk-parallel\"><div class=\"sk-parallel-item\"><div class=\"sk-item\"><div class=\"sk-label-container\"><div class=\"sk-label sk-toggleable\"><input class=\"sk-toggleable__control sk-hidden--visually\" id=\"4957d6cf-4ff0-4035-ae3b-50c1ad84d6b0\" type=\"checkbox\" ><label for=\"4957d6cf-4ff0-4035-ae3b-50c1ad84d6b0\" class=\"sk-toggleable__label sk-toggleable__label-arrow\">pipeline-1</label><div class=\"sk-toggleable__content\"><pre>&lt;sklearn.compose._column_transformer.make_column_selector object at 0x7fdd4c1baac0&gt;</pre></div></div></div><div class=\"sk-serial\"><div class=\"sk-item\"><div class=\"sk-serial\"><div class=\"sk-item\"><div class=\"sk-estimator sk-toggleable\"><input class=\"sk-toggleable__control sk-hidden--visually\" id=\"2b2a882e-c616-4ad2-a467-7d68f4a26a09\" type=\"checkbox\" ><label for=\"2b2a882e-c616-4ad2-a467-7d68f4a26a09\" class=\"sk-toggleable__label sk-toggleable__label-arrow\">SimpleImputer</label><div class=\"sk-toggleable__content\"><pre>SimpleImputer(strategy=&#x27;median&#x27;)</pre></div></div></div><div class=\"sk-item\"><div class=\"sk-estimator sk-toggleable\"><input class=\"sk-toggleable__control sk-hidden--visually\" id=\"04ee30ac-e622-41aa-a8e5-be5d85de7de5\" type=\"checkbox\" ><label for=\"04ee30ac-e622-41aa-a8e5-be5d85de7de5\" class=\"sk-toggleable__label sk-toggleable__label-arrow\">StandardScaler</label><div class=\"sk-toggleable__content\"><pre>StandardScaler()</pre></div></div></div></div></div></div></div></div><div class=\"sk-parallel-item\"><div class=\"sk-item\"><div class=\"sk-label-container\"><div class=\"sk-label sk-toggleable\"><input class=\"sk-toggleable__control sk-hidden--visually\" id=\"fdc458d8-fd4f-43c3-8eaa-6739d441187a\" type=\"checkbox\" ><label for=\"fdc458d8-fd4f-43c3-8eaa-6739d441187a\" class=\"sk-toggleable__label sk-toggleable__label-arrow\">pipeline-2</label><div class=\"sk-toggleable__content\"><pre>&lt;sklearn.compose._column_transformer.make_column_selector object at 0x7fdd3b5e0d60&gt;</pre></div></div></div><div class=\"sk-serial\"><div class=\"sk-item\"><div class=\"sk-serial\"><div class=\"sk-item\"><div class=\"sk-estimator sk-toggleable\"><input class=\"sk-toggleable__control sk-hidden--visually\" id=\"7bd52639-22c0-44ec-98b1-49a1a01144cc\" type=\"checkbox\" ><label for=\"7bd52639-22c0-44ec-98b1-49a1a01144cc\" class=\"sk-toggleable__label sk-toggleable__label-arrow\">SimpleImputer</label><div class=\"sk-toggleable__content\"><pre>SimpleImputer(strategy=&#x27;most_frequent&#x27;)</pre></div></div></div><div class=\"sk-item\"><div class=\"sk-estimator sk-toggleable\"><input class=\"sk-toggleable__control sk-hidden--visually\" id=\"bca026ee-dc6c-438b-bf13-d1aea4ae3003\" type=\"checkbox\" ><label for=\"bca026ee-dc6c-438b-bf13-d1aea4ae3003\" class=\"sk-toggleable__label sk-toggleable__label-arrow\">OneHotEncoder</label><div class=\"sk-toggleable__content\"><pre>OneHotEncoder(handle_unknown=&#x27;ignore&#x27;, sparse=False)</pre></div></div></div></div></div></div></div></div></div></div></div></div>"
      ],
      "text/plain": [
       "ColumnTransformer(transformers=[('pipeline-1',\n",
       "                                 Pipeline(steps=[('simpleimputer',\n",
       "                                                  SimpleImputer(strategy='median')),\n",
       "                                                 ('standardscaler',\n",
       "                                                  StandardScaler())]),\n",
       "                                 <sklearn.compose._column_transformer.make_column_selector object at 0x7fdd4c1baac0>),\n",
       "                                ('pipeline-2',\n",
       "                                 Pipeline(steps=[('simpleimputer',\n",
       "                                                  SimpleImputer(strategy='most_frequent')),\n",
       "                                                 ('onehotencoder',\n",
       "                                                  OneHotEncoder(handle_unknown='ignore',\n",
       "                                                                sparse=False))]),\n",
       "                                 <sklearn.compose._column_transformer.make_column_selector object at 0x7fdd3b5e0d60>)])"
      ]
     },
     "execution_count": 58,
     "metadata": {},
     "output_type": "execute_result"
    }
   ],
   "source": [
    "# Build the ColumnTransformer\n",
    "# Lets create tuples\n",
    "num_tuple = (numeric_pipe, num_selector)\n",
    "cat_tuple = (categorical_pipe, cat_selector)\n",
    "\n",
    "# instantiate ColumnTransformer\n",
    "preprocesor = make_column_transformer(num_tuple, cat_tuple)\n",
    "preprocesor"
   ]
  },
  {
   "cell_type": "code",
   "execution_count": 59,
   "metadata": {},
   "outputs": [
    {
     "data": {
      "text/html": [
       "<style>#sk-6c178ccd-6a43-4a6b-8a12-339aaf8d53e4 {color: black;background-color: white;}#sk-6c178ccd-6a43-4a6b-8a12-339aaf8d53e4 pre{padding: 0;}#sk-6c178ccd-6a43-4a6b-8a12-339aaf8d53e4 div.sk-toggleable {background-color: white;}#sk-6c178ccd-6a43-4a6b-8a12-339aaf8d53e4 label.sk-toggleable__label {cursor: pointer;display: block;width: 100%;margin-bottom: 0;padding: 0.3em;box-sizing: border-box;text-align: center;}#sk-6c178ccd-6a43-4a6b-8a12-339aaf8d53e4 label.sk-toggleable__label-arrow:before {content: \"▸\";float: left;margin-right: 0.25em;color: #696969;}#sk-6c178ccd-6a43-4a6b-8a12-339aaf8d53e4 label.sk-toggleable__label-arrow:hover:before {color: black;}#sk-6c178ccd-6a43-4a6b-8a12-339aaf8d53e4 div.sk-estimator:hover label.sk-toggleable__label-arrow:before {color: black;}#sk-6c178ccd-6a43-4a6b-8a12-339aaf8d53e4 div.sk-toggleable__content {max-height: 0;max-width: 0;overflow: hidden;text-align: left;background-color: #f0f8ff;}#sk-6c178ccd-6a43-4a6b-8a12-339aaf8d53e4 div.sk-toggleable__content pre {margin: 0.2em;color: black;border-radius: 0.25em;background-color: #f0f8ff;}#sk-6c178ccd-6a43-4a6b-8a12-339aaf8d53e4 input.sk-toggleable__control:checked~div.sk-toggleable__content {max-height: 200px;max-width: 100%;overflow: auto;}#sk-6c178ccd-6a43-4a6b-8a12-339aaf8d53e4 input.sk-toggleable__control:checked~label.sk-toggleable__label-arrow:before {content: \"▾\";}#sk-6c178ccd-6a43-4a6b-8a12-339aaf8d53e4 div.sk-estimator input.sk-toggleable__control:checked~label.sk-toggleable__label {background-color: #d4ebff;}#sk-6c178ccd-6a43-4a6b-8a12-339aaf8d53e4 div.sk-label input.sk-toggleable__control:checked~label.sk-toggleable__label {background-color: #d4ebff;}#sk-6c178ccd-6a43-4a6b-8a12-339aaf8d53e4 input.sk-hidden--visually {border: 0;clip: rect(1px 1px 1px 1px);clip: rect(1px, 1px, 1px, 1px);height: 1px;margin: -1px;overflow: hidden;padding: 0;position: absolute;width: 1px;}#sk-6c178ccd-6a43-4a6b-8a12-339aaf8d53e4 div.sk-estimator {font-family: monospace;background-color: #f0f8ff;border: 1px dotted black;border-radius: 0.25em;box-sizing: border-box;margin-bottom: 0.5em;}#sk-6c178ccd-6a43-4a6b-8a12-339aaf8d53e4 div.sk-estimator:hover {background-color: #d4ebff;}#sk-6c178ccd-6a43-4a6b-8a12-339aaf8d53e4 div.sk-parallel-item::after {content: \"\";width: 100%;border-bottom: 1px solid gray;flex-grow: 1;}#sk-6c178ccd-6a43-4a6b-8a12-339aaf8d53e4 div.sk-label:hover label.sk-toggleable__label {background-color: #d4ebff;}#sk-6c178ccd-6a43-4a6b-8a12-339aaf8d53e4 div.sk-serial::before {content: \"\";position: absolute;border-left: 1px solid gray;box-sizing: border-box;top: 2em;bottom: 0;left: 50%;}#sk-6c178ccd-6a43-4a6b-8a12-339aaf8d53e4 div.sk-serial {display: flex;flex-direction: column;align-items: center;background-color: white;padding-right: 0.2em;padding-left: 0.2em;}#sk-6c178ccd-6a43-4a6b-8a12-339aaf8d53e4 div.sk-item {z-index: 1;}#sk-6c178ccd-6a43-4a6b-8a12-339aaf8d53e4 div.sk-parallel {display: flex;align-items: stretch;justify-content: center;background-color: white;}#sk-6c178ccd-6a43-4a6b-8a12-339aaf8d53e4 div.sk-parallel::before {content: \"\";position: absolute;border-left: 1px solid gray;box-sizing: border-box;top: 2em;bottom: 0;left: 50%;}#sk-6c178ccd-6a43-4a6b-8a12-339aaf8d53e4 div.sk-parallel-item {display: flex;flex-direction: column;position: relative;background-color: white;}#sk-6c178ccd-6a43-4a6b-8a12-339aaf8d53e4 div.sk-parallel-item:first-child::after {align-self: flex-end;width: 50%;}#sk-6c178ccd-6a43-4a6b-8a12-339aaf8d53e4 div.sk-parallel-item:last-child::after {align-self: flex-start;width: 50%;}#sk-6c178ccd-6a43-4a6b-8a12-339aaf8d53e4 div.sk-parallel-item:only-child::after {width: 0;}#sk-6c178ccd-6a43-4a6b-8a12-339aaf8d53e4 div.sk-dashed-wrapped {border: 1px dashed gray;margin: 0 0.4em 0.5em 0.4em;box-sizing: border-box;padding-bottom: 0.4em;background-color: white;position: relative;}#sk-6c178ccd-6a43-4a6b-8a12-339aaf8d53e4 div.sk-label label {font-family: monospace;font-weight: bold;background-color: white;display: inline-block;line-height: 1.2em;}#sk-6c178ccd-6a43-4a6b-8a12-339aaf8d53e4 div.sk-label-container {position: relative;z-index: 2;text-align: center;}#sk-6c178ccd-6a43-4a6b-8a12-339aaf8d53e4 div.sk-container {/* jupyter's `normalize.less` sets `[hidden] { display: none; }` but bootstrap.min.css set `[hidden] { display: none !important; }` so we also need the `!important` here to be able to override the default hidden behavior on the sphinx rendered scikit-learn.org. See: https://github.com/scikit-learn/scikit-learn/issues/21755 */display: inline-block !important;position: relative;}#sk-6c178ccd-6a43-4a6b-8a12-339aaf8d53e4 div.sk-text-repr-fallback {display: none;}</style><div id=\"sk-6c178ccd-6a43-4a6b-8a12-339aaf8d53e4\" class=\"sk-top-container\"><div class=\"sk-text-repr-fallback\"><pre>ColumnTransformer(transformers=[(&#x27;pipeline-1&#x27;,\n",
       "                                 Pipeline(steps=[(&#x27;simpleimputer&#x27;,\n",
       "                                                  SimpleImputer(strategy=&#x27;median&#x27;)),\n",
       "                                                 (&#x27;standardscaler&#x27;,\n",
       "                                                  StandardScaler())]),\n",
       "                                 &lt;sklearn.compose._column_transformer.make_column_selector object at 0x7fdd4c1baac0&gt;),\n",
       "                                (&#x27;pipeline-2&#x27;,\n",
       "                                 Pipeline(steps=[(&#x27;simpleimputer&#x27;,\n",
       "                                                  SimpleImputer(strategy=&#x27;most_frequent&#x27;)),\n",
       "                                                 (&#x27;onehotencoder&#x27;,\n",
       "                                                  OneHotEncoder(handle_unknown=&#x27;ignore&#x27;,\n",
       "                                                                sparse=False))]),\n",
       "                                 &lt;sklearn.compose._column_transformer.make_column_selector object at 0x7fdd3b5e0d60&gt;)])</pre><b>Please rerun this cell to show the HTML repr or trust the notebook.</b></div><div class=\"sk-container\" hidden><div class=\"sk-item sk-dashed-wrapped\"><div class=\"sk-label-container\"><div class=\"sk-label sk-toggleable\"><input class=\"sk-toggleable__control sk-hidden--visually\" id=\"c5d167a6-46bd-4959-87e2-3928e234b830\" type=\"checkbox\" ><label for=\"c5d167a6-46bd-4959-87e2-3928e234b830\" class=\"sk-toggleable__label sk-toggleable__label-arrow\">ColumnTransformer</label><div class=\"sk-toggleable__content\"><pre>ColumnTransformer(transformers=[(&#x27;pipeline-1&#x27;,\n",
       "                                 Pipeline(steps=[(&#x27;simpleimputer&#x27;,\n",
       "                                                  SimpleImputer(strategy=&#x27;median&#x27;)),\n",
       "                                                 (&#x27;standardscaler&#x27;,\n",
       "                                                  StandardScaler())]),\n",
       "                                 &lt;sklearn.compose._column_transformer.make_column_selector object at 0x7fdd4c1baac0&gt;),\n",
       "                                (&#x27;pipeline-2&#x27;,\n",
       "                                 Pipeline(steps=[(&#x27;simpleimputer&#x27;,\n",
       "                                                  SimpleImputer(strategy=&#x27;most_frequent&#x27;)),\n",
       "                                                 (&#x27;onehotencoder&#x27;,\n",
       "                                                  OneHotEncoder(handle_unknown=&#x27;ignore&#x27;,\n",
       "                                                                sparse=False))]),\n",
       "                                 &lt;sklearn.compose._column_transformer.make_column_selector object at 0x7fdd3b5e0d60&gt;)])</pre></div></div></div><div class=\"sk-parallel\"><div class=\"sk-parallel-item\"><div class=\"sk-item\"><div class=\"sk-label-container\"><div class=\"sk-label sk-toggleable\"><input class=\"sk-toggleable__control sk-hidden--visually\" id=\"398ae1bd-481e-4818-bc0f-1c7baebc31c4\" type=\"checkbox\" ><label for=\"398ae1bd-481e-4818-bc0f-1c7baebc31c4\" class=\"sk-toggleable__label sk-toggleable__label-arrow\">pipeline-1</label><div class=\"sk-toggleable__content\"><pre>&lt;sklearn.compose._column_transformer.make_column_selector object at 0x7fdd4c1baac0&gt;</pre></div></div></div><div class=\"sk-serial\"><div class=\"sk-item\"><div class=\"sk-serial\"><div class=\"sk-item\"><div class=\"sk-estimator sk-toggleable\"><input class=\"sk-toggleable__control sk-hidden--visually\" id=\"4d210930-0b27-4950-8574-20c6c73f5018\" type=\"checkbox\" ><label for=\"4d210930-0b27-4950-8574-20c6c73f5018\" class=\"sk-toggleable__label sk-toggleable__label-arrow\">SimpleImputer</label><div class=\"sk-toggleable__content\"><pre>SimpleImputer(strategy=&#x27;median&#x27;)</pre></div></div></div><div class=\"sk-item\"><div class=\"sk-estimator sk-toggleable\"><input class=\"sk-toggleable__control sk-hidden--visually\" id=\"ceba5fc2-0563-49f5-ae9a-d201bfc6b185\" type=\"checkbox\" ><label for=\"ceba5fc2-0563-49f5-ae9a-d201bfc6b185\" class=\"sk-toggleable__label sk-toggleable__label-arrow\">StandardScaler</label><div class=\"sk-toggleable__content\"><pre>StandardScaler()</pre></div></div></div></div></div></div></div></div><div class=\"sk-parallel-item\"><div class=\"sk-item\"><div class=\"sk-label-container\"><div class=\"sk-label sk-toggleable\"><input class=\"sk-toggleable__control sk-hidden--visually\" id=\"488b43ba-77aa-4054-bcb7-0693f340ab72\" type=\"checkbox\" ><label for=\"488b43ba-77aa-4054-bcb7-0693f340ab72\" class=\"sk-toggleable__label sk-toggleable__label-arrow\">pipeline-2</label><div class=\"sk-toggleable__content\"><pre>&lt;sklearn.compose._column_transformer.make_column_selector object at 0x7fdd3b5e0d60&gt;</pre></div></div></div><div class=\"sk-serial\"><div class=\"sk-item\"><div class=\"sk-serial\"><div class=\"sk-item\"><div class=\"sk-estimator sk-toggleable\"><input class=\"sk-toggleable__control sk-hidden--visually\" id=\"8c7b9a76-9ba9-46c1-b781-384c29991f31\" type=\"checkbox\" ><label for=\"8c7b9a76-9ba9-46c1-b781-384c29991f31\" class=\"sk-toggleable__label sk-toggleable__label-arrow\">SimpleImputer</label><div class=\"sk-toggleable__content\"><pre>SimpleImputer(strategy=&#x27;most_frequent&#x27;)</pre></div></div></div><div class=\"sk-item\"><div class=\"sk-estimator sk-toggleable\"><input class=\"sk-toggleable__control sk-hidden--visually\" id=\"33e03c86-a1c3-4165-89bf-c6ce633df35c\" type=\"checkbox\" ><label for=\"33e03c86-a1c3-4165-89bf-c6ce633df35c\" class=\"sk-toggleable__label sk-toggleable__label-arrow\">OneHotEncoder</label><div class=\"sk-toggleable__content\"><pre>OneHotEncoder(handle_unknown=&#x27;ignore&#x27;, sparse=False)</pre></div></div></div></div></div></div></div></div></div></div></div></div>"
      ],
      "text/plain": [
       "ColumnTransformer(transformers=[('pipeline-1',\n",
       "                                 Pipeline(steps=[('simpleimputer',\n",
       "                                                  SimpleImputer(strategy='median')),\n",
       "                                                 ('standardscaler',\n",
       "                                                  StandardScaler())]),\n",
       "                                 <sklearn.compose._column_transformer.make_column_selector object at 0x7fdd4c1baac0>),\n",
       "                                ('pipeline-2',\n",
       "                                 Pipeline(steps=[('simpleimputer',\n",
       "                                                  SimpleImputer(strategy='most_frequent')),\n",
       "                                                 ('onehotencoder',\n",
       "                                                  OneHotEncoder(handle_unknown='ignore',\n",
       "                                                                sparse=False))]),\n",
       "                                 <sklearn.compose._column_transformer.make_column_selector object at 0x7fdd3b5e0d60>)])"
      ]
     },
     "execution_count": 59,
     "metadata": {},
     "output_type": "execute_result"
    }
   ],
   "source": [
    "# Impute Missing Values With ColumnTransformer\n",
    "# fit on training data\n",
    "preprocesor.fit(X_train)"
   ]
  },
  {
   "cell_type": "code",
   "execution_count": 60,
   "metadata": {},
   "outputs": [],
   "source": [
    "# Lets transform both the training and testing data\n",
    "X_train_processed = preprocesor.transform(X_train)\n",
    "X_test_processed = preprocesor.transform(X_test)"
   ]
  },
  {
   "cell_type": "markdown",
   "metadata": {},
   "source": [
    "### Make sure your imputation of missing values occurs after the train test split using SimpleImputer."
   ]
  },
  {
   "cell_type": "code",
   "execution_count": 61,
   "metadata": {},
   "outputs": [
    {
     "name": "stdout",
     "output_type": "stream",
     "text": [
      "0 missing values in training data\n",
      "0 missing values in testing data\n",
      "\n",
      "\n",
      "All data in X_train_processed are float64\n",
      "All data in X_test_processed are float64\n",
      "\n",
      "\n",
      "shape of data is (6392, 39)\n",
      "\n",
      "\n"
     ]
    },
    {
     "data": {
      "text/plain": [
       "array([[ 0.82748547, -0.7403206 , -0.71277507, ...,  0.        ,\n",
       "         1.        ,  0.        ],\n",
       "       [ 0.56664432,  1.35076614, -1.29105225, ...,  0.        ,\n",
       "         1.        ,  0.        ],\n",
       "       [-0.12102782,  1.35076614,  1.81331864, ...,  1.        ,\n",
       "         0.        ,  0.        ],\n",
       "       ...,\n",
       "       [ 1.12389588, -0.7403206 , -0.92052713, ...,  1.        ,\n",
       "         0.        ,  0.        ],\n",
       "       [ 1.77599877, -0.7403206 , -0.2277552 , ...,  1.        ,\n",
       "         0.        ,  0.        ],\n",
       "       [ 0.82748547, -0.7403206 , -0.95867683, ...,  1.        ,\n",
       "         0.        ,  0.        ]])"
      ]
     },
     "execution_count": 61,
     "metadata": {},
     "output_type": "execute_result"
    }
   ],
   "source": [
    "# Check for missing values and that data is scaled and one-hot encoded\n",
    "print(np.isnan(X_train_processed).sum().sum(), 'missing values in training data')\n",
    "print(np.isnan(X_test_processed).sum().sum(), 'missing values in testing data')\n",
    "print('\\n')\n",
    "print('All data in X_train_processed are', X_train_processed.dtype)\n",
    "print('All data in X_test_processed are', X_test_processed.dtype)\n",
    "print('\\n')\n",
    "print('shape of data is', X_train_processed.shape)\n",
    "print('\\n')\n",
    "X_train_processed"
   ]
  },
  {
   "cell_type": "markdown",
   "metadata": {},
   "source": [
    "### Creating custom function to initialize the model\n",
    "\n",
    "* adding bagreg and randomforest models for future testing/comparing"
   ]
  },
  {
   "cell_type": "code",
   "execution_count": 64,
   "metadata": {},
   "outputs": [],
   "source": [
    "# Lets create a function best_params to avoid repeating code\n",
    "def get_best_param(model, X_train, X_test, y_train, y_test, params:list, cols:list):\n",
    "    \n",
    "    #create data frame\n",
    "    mode_score = pd.DataFrame(index=params, columns=cols)\n",
    "    \n",
    "    #lets loop through the model\n",
    "    for param in params:\n",
    "        if model == 'dec_tree':\n",
    "            op_model = DecisionTreeRegressor(max_depth=param, random_state=42)\n",
    "            \n",
    "        elif model == 'bagreg':\n",
    "            op_model = BaggingRegressor(n_estimators=param, random_state=42)\n",
    "        \n",
    "        elif model == 'rf':\n",
    "            op_model = RandomForestRegressor(max_depth=param, random_state=42)\n",
    "        \n",
    "        else:\n",
    "            print(f\"Invalid {model} please try 'dec_tree, bagreg or rf'\")\n",
    "            \n",
    "        #train the model\n",
    "        op_pipe = make_pipeline(preprocesor, op_model)\n",
    "        op_pipe.fit(X_train, y_train)\n",
    "        \n",
    "        #lets store data into DataFrame\n",
    "        train_score = op_pipe.score(X_train, y_train)\n",
    "        test_score = op_pipe.score(X_test, y_test)\n",
    "        train_pred = op_pipe.predict(X_train)\n",
    "        test_pred = op_pipe.predict(X_test)\n",
    "        mode_score.loc[param, cols[1]] = train_score\n",
    "        mode_score.loc[param, cols[0]] = test_score\n",
    "    \n",
    "    #return best score for given best param\n",
    "    best_param_df = mode_score.sort_values(by=cols[0], ascending=False).head(1)\n",
    "    \n",
    "    #store the best param in variable\n",
    "    best_param = best_param_df.index\n",
    "    best_param_df['Best Param']  = best_param\n",
    "    return best_param_df.set_index('Best Param')"
   ]
  },
  {
   "cell_type": "code",
   "execution_count": 50,
   "metadata": {},
   "outputs": [],
   "source": [
    "# lets use best param to tune hyperparameter and score metrics\n",
    "def get_metrics(model, param):\n",
    "    \n",
    "    if model == 'dec_tree':\n",
    "        op_model_best = DecisionTreeRegressor(max_depth=param, random_state=42)\n",
    "    \n",
    "    elif model == 'bagreg':\n",
    "        op_model_best = BaggingRegressor(n_estimators=param, random_state=42)\n",
    "    \n",
    "    elif model == 'rf':\n",
    "        op_model_best = RandomForestRegressor(max_depth=param, random_state=42)\n",
    "        \n",
    "    elif model == 'reg':\n",
    "        op_model_best = LinearRegression()\n",
    "    \n",
    "    op_pipe_best = make_pipeline(preprocesor, op_model_best)\n",
    "    \n",
    "    #train model\n",
    "    op_pipe_best.fit(X_train, y_train)\n",
    "    \n",
    "    train_pred_best = op_pipe_best.predict(X_train)\n",
    "    test_pred_best = op_pipe_best.predict(X_test)\n",
    "    \n",
    "    #create scoring table\n",
    "    metrics = [{\n",
    "        \"model\" : model,\n",
    "        \n",
    "        \"test r-squared Score\" : round(r2_score(y_test, test_pred_best),3),\n",
    "        \"train r-squared Score\" : round(r2_score(y_train, train_pred_best),3),\n",
    "        \n",
    "        \"test_MAE\" : round(mean_absolute_error(y_test, test_pred_best),2),\n",
    "        \"train_MAE\" : round(mean_absolute_error(y_train, train_pred_best),2),\n",
    "        \n",
    "        \"test_MSE Score\" : round(mean_squared_error(y_test, test_pred_best),2),\n",
    "        \"train_MSE Score\" : round(mean_squared_error(y_train, train_pred_best),2),\n",
    "        \n",
    "        \"test_RMSE Score\" : round(mean_squared_error(y_test, test_pred_best, squared=False),2),\n",
    "        \"train_RMSE Score\" : round(mean_squared_error(y_test, test_pred_best, squared=False),2)\n",
    "    }]\n",
    "    \n",
    "    temp_pd = pd.DataFrame.from_dict(metrics)\n",
    "    \n",
    "    index_df = temp_pd.set_index('model')\n",
    "    return index_df"
   ]
  },
  {
   "cell_type": "code",
   "execution_count": 46,
   "metadata": {},
   "outputs": [
    {
     "data": {
      "text/html": [
       "<style>#sk-756e988a-1460-4d00-bc8e-d78df26ca520 {color: black;background-color: white;}#sk-756e988a-1460-4d00-bc8e-d78df26ca520 pre{padding: 0;}#sk-756e988a-1460-4d00-bc8e-d78df26ca520 div.sk-toggleable {background-color: white;}#sk-756e988a-1460-4d00-bc8e-d78df26ca520 label.sk-toggleable__label {cursor: pointer;display: block;width: 100%;margin-bottom: 0;padding: 0.3em;box-sizing: border-box;text-align: center;}#sk-756e988a-1460-4d00-bc8e-d78df26ca520 label.sk-toggleable__label-arrow:before {content: \"▸\";float: left;margin-right: 0.25em;color: #696969;}#sk-756e988a-1460-4d00-bc8e-d78df26ca520 label.sk-toggleable__label-arrow:hover:before {color: black;}#sk-756e988a-1460-4d00-bc8e-d78df26ca520 div.sk-estimator:hover label.sk-toggleable__label-arrow:before {color: black;}#sk-756e988a-1460-4d00-bc8e-d78df26ca520 div.sk-toggleable__content {max-height: 0;max-width: 0;overflow: hidden;text-align: left;background-color: #f0f8ff;}#sk-756e988a-1460-4d00-bc8e-d78df26ca520 div.sk-toggleable__content pre {margin: 0.2em;color: black;border-radius: 0.25em;background-color: #f0f8ff;}#sk-756e988a-1460-4d00-bc8e-d78df26ca520 input.sk-toggleable__control:checked~div.sk-toggleable__content {max-height: 200px;max-width: 100%;overflow: auto;}#sk-756e988a-1460-4d00-bc8e-d78df26ca520 input.sk-toggleable__control:checked~label.sk-toggleable__label-arrow:before {content: \"▾\";}#sk-756e988a-1460-4d00-bc8e-d78df26ca520 div.sk-estimator input.sk-toggleable__control:checked~label.sk-toggleable__label {background-color: #d4ebff;}#sk-756e988a-1460-4d00-bc8e-d78df26ca520 div.sk-label input.sk-toggleable__control:checked~label.sk-toggleable__label {background-color: #d4ebff;}#sk-756e988a-1460-4d00-bc8e-d78df26ca520 input.sk-hidden--visually {border: 0;clip: rect(1px 1px 1px 1px);clip: rect(1px, 1px, 1px, 1px);height: 1px;margin: -1px;overflow: hidden;padding: 0;position: absolute;width: 1px;}#sk-756e988a-1460-4d00-bc8e-d78df26ca520 div.sk-estimator {font-family: monospace;background-color: #f0f8ff;border: 1px dotted black;border-radius: 0.25em;box-sizing: border-box;margin-bottom: 0.5em;}#sk-756e988a-1460-4d00-bc8e-d78df26ca520 div.sk-estimator:hover {background-color: #d4ebff;}#sk-756e988a-1460-4d00-bc8e-d78df26ca520 div.sk-parallel-item::after {content: \"\";width: 100%;border-bottom: 1px solid gray;flex-grow: 1;}#sk-756e988a-1460-4d00-bc8e-d78df26ca520 div.sk-label:hover label.sk-toggleable__label {background-color: #d4ebff;}#sk-756e988a-1460-4d00-bc8e-d78df26ca520 div.sk-serial::before {content: \"\";position: absolute;border-left: 1px solid gray;box-sizing: border-box;top: 2em;bottom: 0;left: 50%;}#sk-756e988a-1460-4d00-bc8e-d78df26ca520 div.sk-serial {display: flex;flex-direction: column;align-items: center;background-color: white;padding-right: 0.2em;padding-left: 0.2em;}#sk-756e988a-1460-4d00-bc8e-d78df26ca520 div.sk-item {z-index: 1;}#sk-756e988a-1460-4d00-bc8e-d78df26ca520 div.sk-parallel {display: flex;align-items: stretch;justify-content: center;background-color: white;}#sk-756e988a-1460-4d00-bc8e-d78df26ca520 div.sk-parallel::before {content: \"\";position: absolute;border-left: 1px solid gray;box-sizing: border-box;top: 2em;bottom: 0;left: 50%;}#sk-756e988a-1460-4d00-bc8e-d78df26ca520 div.sk-parallel-item {display: flex;flex-direction: column;position: relative;background-color: white;}#sk-756e988a-1460-4d00-bc8e-d78df26ca520 div.sk-parallel-item:first-child::after {align-self: flex-end;width: 50%;}#sk-756e988a-1460-4d00-bc8e-d78df26ca520 div.sk-parallel-item:last-child::after {align-self: flex-start;width: 50%;}#sk-756e988a-1460-4d00-bc8e-d78df26ca520 div.sk-parallel-item:only-child::after {width: 0;}#sk-756e988a-1460-4d00-bc8e-d78df26ca520 div.sk-dashed-wrapped {border: 1px dashed gray;margin: 0 0.4em 0.5em 0.4em;box-sizing: border-box;padding-bottom: 0.4em;background-color: white;position: relative;}#sk-756e988a-1460-4d00-bc8e-d78df26ca520 div.sk-label label {font-family: monospace;font-weight: bold;background-color: white;display: inline-block;line-height: 1.2em;}#sk-756e988a-1460-4d00-bc8e-d78df26ca520 div.sk-label-container {position: relative;z-index: 2;text-align: center;}#sk-756e988a-1460-4d00-bc8e-d78df26ca520 div.sk-container {/* jupyter's `normalize.less` sets `[hidden] { display: none; }` but bootstrap.min.css set `[hidden] { display: none !important; }` so we also need the `!important` here to be able to override the default hidden behavior on the sphinx rendered scikit-learn.org. See: https://github.com/scikit-learn/scikit-learn/issues/21755 */display: inline-block !important;position: relative;}#sk-756e988a-1460-4d00-bc8e-d78df26ca520 div.sk-text-repr-fallback {display: none;}</style><div id=\"sk-756e988a-1460-4d00-bc8e-d78df26ca520\" class=\"sk-top-container\"><div class=\"sk-text-repr-fallback\"><pre>Pipeline(steps=[(&#x27;columntransformer&#x27;,\n",
       "                 ColumnTransformer(transformers=[(&#x27;pipeline-1&#x27;,\n",
       "                                                  Pipeline(steps=[(&#x27;simpleimputer&#x27;,\n",
       "                                                                   SimpleImputer(strategy=&#x27;median&#x27;)),\n",
       "                                                                  (&#x27;standardscaler&#x27;,\n",
       "                                                                   StandardScaler())]),\n",
       "                                                  &lt;sklearn.compose._column_transformer.make_column_selector object at 0x7fdd3bbdcb50&gt;),\n",
       "                                                 (&#x27;pipeline-2&#x27;,\n",
       "                                                  Pipeline(steps=[(&#x27;simpleimputer&#x27;,\n",
       "                                                                   SimpleImputer(strategy=&#x27;most_frequent&#x27;)),\n",
       "                                                                  (&#x27;onehotencoder&#x27;,\n",
       "                                                                   OneHotEncoder(handle_unknown=&#x27;ignore&#x27;,\n",
       "                                                                                 sparse=False))]),\n",
       "                                                  &lt;sklearn.compose._column_transformer.make_column_selector object at 0x7fdd3bbdce50&gt;)])),\n",
       "                (&#x27;linearregression&#x27;, LinearRegression())])</pre><b>Please rerun this cell to show the HTML repr or trust the notebook.</b></div><div class=\"sk-container\" hidden><div class=\"sk-item sk-dashed-wrapped\"><div class=\"sk-label-container\"><div class=\"sk-label sk-toggleable\"><input class=\"sk-toggleable__control sk-hidden--visually\" id=\"c19b71fc-21d7-433b-be04-8df19cc7f05a\" type=\"checkbox\" ><label for=\"c19b71fc-21d7-433b-be04-8df19cc7f05a\" class=\"sk-toggleable__label sk-toggleable__label-arrow\">Pipeline</label><div class=\"sk-toggleable__content\"><pre>Pipeline(steps=[(&#x27;columntransformer&#x27;,\n",
       "                 ColumnTransformer(transformers=[(&#x27;pipeline-1&#x27;,\n",
       "                                                  Pipeline(steps=[(&#x27;simpleimputer&#x27;,\n",
       "                                                                   SimpleImputer(strategy=&#x27;median&#x27;)),\n",
       "                                                                  (&#x27;standardscaler&#x27;,\n",
       "                                                                   StandardScaler())]),\n",
       "                                                  &lt;sklearn.compose._column_transformer.make_column_selector object at 0x7fdd3bbdcb50&gt;),\n",
       "                                                 (&#x27;pipeline-2&#x27;,\n",
       "                                                  Pipeline(steps=[(&#x27;simpleimputer&#x27;,\n",
       "                                                                   SimpleImputer(strategy=&#x27;most_frequent&#x27;)),\n",
       "                                                                  (&#x27;onehotencoder&#x27;,\n",
       "                                                                   OneHotEncoder(handle_unknown=&#x27;ignore&#x27;,\n",
       "                                                                                 sparse=False))]),\n",
       "                                                  &lt;sklearn.compose._column_transformer.make_column_selector object at 0x7fdd3bbdce50&gt;)])),\n",
       "                (&#x27;linearregression&#x27;, LinearRegression())])</pre></div></div></div><div class=\"sk-serial\"><div class=\"sk-item sk-dashed-wrapped\"><div class=\"sk-label-container\"><div class=\"sk-label sk-toggleable\"><input class=\"sk-toggleable__control sk-hidden--visually\" id=\"c81542ca-c397-4e9c-81ab-8f1548d76954\" type=\"checkbox\" ><label for=\"c81542ca-c397-4e9c-81ab-8f1548d76954\" class=\"sk-toggleable__label sk-toggleable__label-arrow\">columntransformer: ColumnTransformer</label><div class=\"sk-toggleable__content\"><pre>ColumnTransformer(transformers=[(&#x27;pipeline-1&#x27;,\n",
       "                                 Pipeline(steps=[(&#x27;simpleimputer&#x27;,\n",
       "                                                  SimpleImputer(strategy=&#x27;median&#x27;)),\n",
       "                                                 (&#x27;standardscaler&#x27;,\n",
       "                                                  StandardScaler())]),\n",
       "                                 &lt;sklearn.compose._column_transformer.make_column_selector object at 0x7fdd3bbdcb50&gt;),\n",
       "                                (&#x27;pipeline-2&#x27;,\n",
       "                                 Pipeline(steps=[(&#x27;simpleimputer&#x27;,\n",
       "                                                  SimpleImputer(strategy=&#x27;most_frequent&#x27;)),\n",
       "                                                 (&#x27;onehotencoder&#x27;,\n",
       "                                                  OneHotEncoder(handle_unknown=&#x27;ignore&#x27;,\n",
       "                                                                sparse=False))]),\n",
       "                                 &lt;sklearn.compose._column_transformer.make_column_selector object at 0x7fdd3bbdce50&gt;)])</pre></div></div></div><div class=\"sk-parallel\"><div class=\"sk-parallel-item\"><div class=\"sk-item\"><div class=\"sk-label-container\"><div class=\"sk-label sk-toggleable\"><input class=\"sk-toggleable__control sk-hidden--visually\" id=\"3a7726a3-9b63-4e4d-be5c-b9a681b79d7f\" type=\"checkbox\" ><label for=\"3a7726a3-9b63-4e4d-be5c-b9a681b79d7f\" class=\"sk-toggleable__label sk-toggleable__label-arrow\">pipeline-1</label><div class=\"sk-toggleable__content\"><pre>&lt;sklearn.compose._column_transformer.make_column_selector object at 0x7fdd3bbdcb50&gt;</pre></div></div></div><div class=\"sk-serial\"><div class=\"sk-item\"><div class=\"sk-serial\"><div class=\"sk-item\"><div class=\"sk-estimator sk-toggleable\"><input class=\"sk-toggleable__control sk-hidden--visually\" id=\"647e85e0-9ef7-4778-bbc4-f4345e0cfa75\" type=\"checkbox\" ><label for=\"647e85e0-9ef7-4778-bbc4-f4345e0cfa75\" class=\"sk-toggleable__label sk-toggleable__label-arrow\">SimpleImputer</label><div class=\"sk-toggleable__content\"><pre>SimpleImputer(strategy=&#x27;median&#x27;)</pre></div></div></div><div class=\"sk-item\"><div class=\"sk-estimator sk-toggleable\"><input class=\"sk-toggleable__control sk-hidden--visually\" id=\"2e1c85e7-0aee-4bc8-8dcc-004af2eb25fb\" type=\"checkbox\" ><label for=\"2e1c85e7-0aee-4bc8-8dcc-004af2eb25fb\" class=\"sk-toggleable__label sk-toggleable__label-arrow\">StandardScaler</label><div class=\"sk-toggleable__content\"><pre>StandardScaler()</pre></div></div></div></div></div></div></div></div><div class=\"sk-parallel-item\"><div class=\"sk-item\"><div class=\"sk-label-container\"><div class=\"sk-label sk-toggleable\"><input class=\"sk-toggleable__control sk-hidden--visually\" id=\"e90560a7-36e2-4561-b790-7eb87c1567a9\" type=\"checkbox\" ><label for=\"e90560a7-36e2-4561-b790-7eb87c1567a9\" class=\"sk-toggleable__label sk-toggleable__label-arrow\">pipeline-2</label><div class=\"sk-toggleable__content\"><pre>&lt;sklearn.compose._column_transformer.make_column_selector object at 0x7fdd3bbdce50&gt;</pre></div></div></div><div class=\"sk-serial\"><div class=\"sk-item\"><div class=\"sk-serial\"><div class=\"sk-item\"><div class=\"sk-estimator sk-toggleable\"><input class=\"sk-toggleable__control sk-hidden--visually\" id=\"f45209b5-4d20-4f73-a544-d22ba90093c5\" type=\"checkbox\" ><label for=\"f45209b5-4d20-4f73-a544-d22ba90093c5\" class=\"sk-toggleable__label sk-toggleable__label-arrow\">SimpleImputer</label><div class=\"sk-toggleable__content\"><pre>SimpleImputer(strategy=&#x27;most_frequent&#x27;)</pre></div></div></div><div class=\"sk-item\"><div class=\"sk-estimator sk-toggleable\"><input class=\"sk-toggleable__control sk-hidden--visually\" id=\"2f676dfd-0431-4762-b1d1-b17bc7ae1669\" type=\"checkbox\" ><label for=\"2f676dfd-0431-4762-b1d1-b17bc7ae1669\" class=\"sk-toggleable__label sk-toggleable__label-arrow\">OneHotEncoder</label><div class=\"sk-toggleable__content\"><pre>OneHotEncoder(handle_unknown=&#x27;ignore&#x27;, sparse=False)</pre></div></div></div></div></div></div></div></div></div></div><div class=\"sk-item\"><div class=\"sk-estimator sk-toggleable\"><input class=\"sk-toggleable__control sk-hidden--visually\" id=\"317cf307-f909-4e42-a2a5-6b0ff1fb6324\" type=\"checkbox\" ><label for=\"317cf307-f909-4e42-a2a5-6b0ff1fb6324\" class=\"sk-toggleable__label sk-toggleable__label-arrow\">LinearRegression</label><div class=\"sk-toggleable__content\"><pre>LinearRegression()</pre></div></div></div></div></div></div></div>"
      ],
      "text/plain": [
       "Pipeline(steps=[('columntransformer',\n",
       "                 ColumnTransformer(transformers=[('pipeline-1',\n",
       "                                                  Pipeline(steps=[('simpleimputer',\n",
       "                                                                   SimpleImputer(strategy='median')),\n",
       "                                                                  ('standardscaler',\n",
       "                                                                   StandardScaler())]),\n",
       "                                                  <sklearn.compose._column_transformer.make_column_selector object at 0x7fdd3bbdcb50>),\n",
       "                                                 ('pipeline-2',\n",
       "                                                  Pipeline(steps=[('simpleimputer',\n",
       "                                                                   SimpleImputer(strategy='most_frequent')),\n",
       "                                                                  ('onehotencoder',\n",
       "                                                                   OneHotEncoder(handle_unknown='ignore',\n",
       "                                                                                 sparse=False))]),\n",
       "                                                  <sklearn.compose._column_transformer.make_column_selector object at 0x7fdd3bbdce50>)])),\n",
       "                ('linearregression', LinearRegression())])"
      ]
     },
     "execution_count": 46,
     "metadata": {},
     "output_type": "execute_result"
    }
   ],
   "source": [
    "# lets create pipline\n",
    "reg = LinearRegression()\n",
    "reg_pipe = make_pipeline(preprocesor, reg)\n",
    "\n",
    "reg_pipe.fit(X_train, y_train)"
   ]
  },
  {
   "cell_type": "code",
   "execution_count": 62,
   "metadata": {},
   "outputs": [
    {
     "data": {
      "text/html": [
       "<div>\n",
       "<style scoped>\n",
       "    .dataframe tbody tr th:only-of-type {\n",
       "        vertical-align: middle;\n",
       "    }\n",
       "\n",
       "    .dataframe tbody tr th {\n",
       "        vertical-align: top;\n",
       "    }\n",
       "\n",
       "    .dataframe thead th {\n",
       "        text-align: right;\n",
       "    }\n",
       "</style>\n",
       "<table border=\"1\" class=\"dataframe\">\n",
       "  <thead>\n",
       "    <tr style=\"text-align: right;\">\n",
       "      <th></th>\n",
       "      <th>test r-squared Score</th>\n",
       "      <th>train r-squared Score</th>\n",
       "      <th>test_MAE</th>\n",
       "      <th>train_MAE</th>\n",
       "      <th>test_MSE Score</th>\n",
       "      <th>train_MSE Score</th>\n",
       "      <th>test_RMSE Score</th>\n",
       "      <th>train_RMSE Score</th>\n",
       "    </tr>\n",
       "    <tr>\n",
       "      <th>model</th>\n",
       "      <th></th>\n",
       "      <th></th>\n",
       "      <th></th>\n",
       "      <th></th>\n",
       "      <th></th>\n",
       "      <th></th>\n",
       "      <th></th>\n",
       "      <th></th>\n",
       "    </tr>\n",
       "  </thead>\n",
       "  <tbody>\n",
       "    <tr>\n",
       "      <th>reg</th>\n",
       "      <td>0.567</td>\n",
       "      <td>0.562</td>\n",
       "      <td>804.11</td>\n",
       "      <td>847.11</td>\n",
       "      <td>1194297.88</td>\n",
       "      <td>1297558.5</td>\n",
       "      <td>1092.84</td>\n",
       "      <td>1092.84</td>\n",
       "    </tr>\n",
       "  </tbody>\n",
       "</table>\n",
       "</div>"
      ],
      "text/plain": [
       "       test r-squared Score  train r-squared Score  test_MAE  train_MAE  \\\n",
       "model                                                                     \n",
       "reg                   0.567                  0.562    804.11     847.11   \n",
       "\n",
       "       test_MSE Score  train_MSE Score  test_RMSE Score  train_RMSE Score  \n",
       "model                                                                      \n",
       "reg        1194297.88        1297558.5          1092.84           1092.84  "
      ]
     },
     "execution_count": 62,
     "metadata": {},
     "output_type": "execute_result"
    }
   ],
   "source": [
    "#lets get Linear Regressor metric scores\n",
    "reg_scores = get_metrics(\"reg\", 0)\n",
    "reg_scores"
   ]
  },
  {
   "cell_type": "code",
   "execution_count": 65,
   "metadata": {},
   "outputs": [
    {
     "data": {
      "text/html": [
       "<div>\n",
       "<style scoped>\n",
       "    .dataframe tbody tr th:only-of-type {\n",
       "        vertical-align: middle;\n",
       "    }\n",
       "\n",
       "    .dataframe tbody tr th {\n",
       "        vertical-align: top;\n",
       "    }\n",
       "\n",
       "    .dataframe thead th {\n",
       "        text-align: right;\n",
       "    }\n",
       "</style>\n",
       "<table border=\"1\" class=\"dataframe\">\n",
       "  <thead>\n",
       "    <tr style=\"text-align: right;\">\n",
       "      <th></th>\n",
       "      <th>dec_tree_test_score</th>\n",
       "      <th>dec_tree_train_score</th>\n",
       "    </tr>\n",
       "    <tr>\n",
       "      <th>Best Param</th>\n",
       "      <th></th>\n",
       "      <th></th>\n",
       "    </tr>\n",
       "  </thead>\n",
       "  <tbody>\n",
       "    <tr>\n",
       "      <th>5</th>\n",
       "      <td>0.594709</td>\n",
       "      <td>0.603933</td>\n",
       "    </tr>\n",
       "  </tbody>\n",
       "</table>\n",
       "</div>"
      ],
      "text/plain": [
       "           dec_tree_test_score dec_tree_train_score\n",
       "Best Param                                         \n",
       "5                     0.594709             0.603933"
      ]
     },
     "execution_count": 65,
     "metadata": {},
     "output_type": "execute_result"
    }
   ],
   "source": [
    "# Instantiate dec_tree model score\n",
    "dec_tree_depths = list(range(2,36))\n",
    "dec_tree_cols = ['dec_tree_test_score', 'dec_tree_train_score']\n",
    "op_dec_tree = get_best_param('dec_tree', X_train, X_test, y_train, y_test, dec_tree_depths, dec_tree_cols)\n",
    "\n",
    "# best tune for max_depth parameter\n",
    "op_dec_tree"
   ]
  },
  {
   "cell_type": "code",
   "execution_count": 66,
   "metadata": {},
   "outputs": [
    {
     "data": {
      "text/html": [
       "<div>\n",
       "<style scoped>\n",
       "    .dataframe tbody tr th:only-of-type {\n",
       "        vertical-align: middle;\n",
       "    }\n",
       "\n",
       "    .dataframe tbody tr th {\n",
       "        vertical-align: top;\n",
       "    }\n",
       "\n",
       "    .dataframe thead th {\n",
       "        text-align: right;\n",
       "    }\n",
       "</style>\n",
       "<table border=\"1\" class=\"dataframe\">\n",
       "  <thead>\n",
       "    <tr style=\"text-align: right;\">\n",
       "      <th></th>\n",
       "      <th>test r-squared Score</th>\n",
       "      <th>train r-squared Score</th>\n",
       "      <th>test_MAE</th>\n",
       "      <th>train_MAE</th>\n",
       "      <th>test_MSE Score</th>\n",
       "      <th>train_MSE Score</th>\n",
       "      <th>test_RMSE Score</th>\n",
       "      <th>train_RMSE Score</th>\n",
       "    </tr>\n",
       "    <tr>\n",
       "      <th>model</th>\n",
       "      <th></th>\n",
       "      <th></th>\n",
       "      <th></th>\n",
       "      <th></th>\n",
       "      <th></th>\n",
       "      <th></th>\n",
       "      <th></th>\n",
       "      <th></th>\n",
       "    </tr>\n",
       "  </thead>\n",
       "  <tbody>\n",
       "    <tr>\n",
       "      <th>dec_tree</th>\n",
       "      <td>0.595</td>\n",
       "      <td>0.604</td>\n",
       "      <td>738.36</td>\n",
       "      <td>762.64</td>\n",
       "      <td>1118187.95</td>\n",
       "      <td>1172142.04</td>\n",
       "      <td>1057.44</td>\n",
       "      <td>1057.44</td>\n",
       "    </tr>\n",
       "  </tbody>\n",
       "</table>\n",
       "</div>"
      ],
      "text/plain": [
       "          test r-squared Score  train r-squared Score  test_MAE  train_MAE  \\\n",
       "model                                                                        \n",
       "dec_tree                 0.595                  0.604    738.36     762.64   \n",
       "\n",
       "          test_MSE Score  train_MSE Score  test_RMSE Score  train_RMSE Score  \n",
       "model                                                                         \n",
       "dec_tree      1118187.95       1172142.04          1057.44           1057.44  "
      ]
     },
     "execution_count": 66,
     "metadata": {},
     "output_type": "execute_result"
    }
   ],
   "source": [
    "# get Decision Tree Regressor model score\n",
    "dt_best_scores = get_metrics('dec_tree', 5)\n",
    "dt_best_scores"
   ]
  },
  {
   "cell_type": "code",
   "execution_count": 67,
   "metadata": {},
   "outputs": [
    {
     "data": {
      "text/html": [
       "<div>\n",
       "<style scoped>\n",
       "    .dataframe tbody tr th:only-of-type {\n",
       "        vertical-align: middle;\n",
       "    }\n",
       "\n",
       "    .dataframe tbody tr th {\n",
       "        vertical-align: top;\n",
       "    }\n",
       "\n",
       "    .dataframe thead th {\n",
       "        text-align: right;\n",
       "    }\n",
       "</style>\n",
       "<table border=\"1\" class=\"dataframe\">\n",
       "  <thead>\n",
       "    <tr style=\"text-align: right;\">\n",
       "      <th>model</th>\n",
       "      <th>dec_tree</th>\n",
       "      <th>reg</th>\n",
       "    </tr>\n",
       "  </thead>\n",
       "  <tbody>\n",
       "    <tr>\n",
       "      <th>test r-squared Score</th>\n",
       "      <td>0.595</td>\n",
       "      <td>0.567</td>\n",
       "    </tr>\n",
       "    <tr>\n",
       "      <th>train r-squared Score</th>\n",
       "      <td>0.604</td>\n",
       "      <td>0.562</td>\n",
       "    </tr>\n",
       "    <tr>\n",
       "      <th>test_MAE</th>\n",
       "      <td>738.360</td>\n",
       "      <td>804.110</td>\n",
       "    </tr>\n",
       "    <tr>\n",
       "      <th>train_MAE</th>\n",
       "      <td>762.640</td>\n",
       "      <td>847.110</td>\n",
       "    </tr>\n",
       "    <tr>\n",
       "      <th>test_MSE Score</th>\n",
       "      <td>1118187.950</td>\n",
       "      <td>1194297.880</td>\n",
       "    </tr>\n",
       "    <tr>\n",
       "      <th>train_MSE Score</th>\n",
       "      <td>1172142.040</td>\n",
       "      <td>1297558.500</td>\n",
       "    </tr>\n",
       "    <tr>\n",
       "      <th>test_RMSE Score</th>\n",
       "      <td>1057.440</td>\n",
       "      <td>1092.840</td>\n",
       "    </tr>\n",
       "    <tr>\n",
       "      <th>train_RMSE Score</th>\n",
       "      <td>1057.440</td>\n",
       "      <td>1092.840</td>\n",
       "    </tr>\n",
       "  </tbody>\n",
       "</table>\n",
       "</div>"
      ],
      "text/plain": [
       "model                     dec_tree          reg\n",
       "test r-squared Score         0.595        0.567\n",
       "train r-squared Score        0.604        0.562\n",
       "test_MAE                   738.360      804.110\n",
       "train_MAE                  762.640      847.110\n",
       "test_MSE Score         1118187.950  1194297.880\n",
       "train_MSE Score        1172142.040  1297558.500\n",
       "test_RMSE Score           1057.440     1092.840\n",
       "train_RMSE Score          1057.440     1092.840"
      ]
     },
     "execution_count": 67,
     "metadata": {},
     "output_type": "execute_result"
    }
   ],
   "source": [
    "final_score = pd.concat([dt_best_scores, reg_scores])\n",
    "final_score.T"
   ]
  },
  {
   "cell_type": "markdown",
   "metadata": {},
   "source": [
    "### Model Evaluation\n",
    "\n",
    "* Over all Decision Tree regressor model is consistently outperforming Linear regressor model in this dataset\n",
    "* If only these two models in mind, I recommend using the Decision Tree Regressor model because it outperforms Linear regressor on RMSE score (lower the better) and R2 (higher the better) and Decision tree model still have room to fine tune its hyperparameters"
   ]
  },
  {
   "cell_type": "markdown",
   "metadata": {},
   "source": [
    "### Exploring other models"
   ]
  },
  {
   "cell_type": "code",
   "execution_count": 70,
   "metadata": {},
   "outputs": [
    {
     "data": {
      "text/html": [
       "<div>\n",
       "<style scoped>\n",
       "    .dataframe tbody tr th:only-of-type {\n",
       "        vertical-align: middle;\n",
       "    }\n",
       "\n",
       "    .dataframe tbody tr th {\n",
       "        vertical-align: top;\n",
       "    }\n",
       "\n",
       "    .dataframe thead th {\n",
       "        text-align: right;\n",
       "    }\n",
       "</style>\n",
       "<table border=\"1\" class=\"dataframe\">\n",
       "  <thead>\n",
       "    <tr style=\"text-align: right;\">\n",
       "      <th></th>\n",
       "      <th>rf_train_score</th>\n",
       "      <th>rf_test_score</th>\n",
       "    </tr>\n",
       "    <tr>\n",
       "      <th>Best Param</th>\n",
       "      <th></th>\n",
       "      <th></th>\n",
       "    </tr>\n",
       "  </thead>\n",
       "  <tbody>\n",
       "    <tr>\n",
       "      <th>5</th>\n",
       "      <td>0.602618</td>\n",
       "      <td>0.610533</td>\n",
       "    </tr>\n",
       "  </tbody>\n",
       "</table>\n",
       "</div>"
      ],
      "text/plain": [
       "           rf_train_score rf_test_score\n",
       "Best Param                             \n",
       "5                0.602618      0.610533"
      ]
     },
     "execution_count": 70,
     "metadata": {},
     "output_type": "execute_result"
    }
   ],
   "source": [
    "#Instantiate RandomForest Regressor\n",
    "rf_depths = list(range(2,42))\n",
    "rf_cols = [\"rf_train_score\", \"rf_test_score\"]\n",
    "rf_get_best = get_best_param(\"rf\", X_train, X_test, y_train, y_test , rf_depths, rf_cols)\n",
    "rf_get_best"
   ]
  },
  {
   "cell_type": "code",
   "execution_count": 71,
   "metadata": {},
   "outputs": [
    {
     "data": {
      "text/html": [
       "<div>\n",
       "<style scoped>\n",
       "    .dataframe tbody tr th:only-of-type {\n",
       "        vertical-align: middle;\n",
       "    }\n",
       "\n",
       "    .dataframe tbody tr th {\n",
       "        vertical-align: top;\n",
       "    }\n",
       "\n",
       "    .dataframe thead th {\n",
       "        text-align: right;\n",
       "    }\n",
       "</style>\n",
       "<table border=\"1\" class=\"dataframe\">\n",
       "  <thead>\n",
       "    <tr style=\"text-align: right;\">\n",
       "      <th></th>\n",
       "      <th>test r-squared Score</th>\n",
       "      <th>train r-squared Score</th>\n",
       "      <th>test_MAE</th>\n",
       "      <th>train_MAE</th>\n",
       "      <th>test_MSE Score</th>\n",
       "      <th>train_MSE Score</th>\n",
       "      <th>test_RMSE Score</th>\n",
       "      <th>train_RMSE Score</th>\n",
       "    </tr>\n",
       "    <tr>\n",
       "      <th>model</th>\n",
       "      <th></th>\n",
       "      <th></th>\n",
       "      <th></th>\n",
       "      <th></th>\n",
       "      <th></th>\n",
       "      <th></th>\n",
       "      <th></th>\n",
       "      <th></th>\n",
       "    </tr>\n",
       "  </thead>\n",
       "  <tbody>\n",
       "    <tr>\n",
       "      <th>rf</th>\n",
       "      <td>0.603</td>\n",
       "      <td>0.611</td>\n",
       "      <td>728.37</td>\n",
       "      <td>755.39</td>\n",
       "      <td>1096367.64</td>\n",
       "      <td>1152609.47</td>\n",
       "      <td>1047.08</td>\n",
       "      <td>1047.08</td>\n",
       "    </tr>\n",
       "  </tbody>\n",
       "</table>\n",
       "</div>"
      ],
      "text/plain": [
       "       test r-squared Score  train r-squared Score  test_MAE  train_MAE  \\\n",
       "model                                                                     \n",
       "rf                    0.603                  0.611    728.37     755.39   \n",
       "\n",
       "       test_MSE Score  train_MSE Score  test_RMSE Score  train_RMSE Score  \n",
       "model                                                                      \n",
       "rf         1096367.64       1152609.47          1047.08           1047.08  "
      ]
     },
     "execution_count": 71,
     "metadata": {},
     "output_type": "execute_result"
    }
   ],
   "source": [
    "rf_best_score = get_metrics('rf', 5)\n",
    "rf_best_score"
   ]
  },
  {
   "cell_type": "code",
   "execution_count": 72,
   "metadata": {},
   "outputs": [
    {
     "data": {
      "text/html": [
       "<div>\n",
       "<style scoped>\n",
       "    .dataframe tbody tr th:only-of-type {\n",
       "        vertical-align: middle;\n",
       "    }\n",
       "\n",
       "    .dataframe tbody tr th {\n",
       "        vertical-align: top;\n",
       "    }\n",
       "\n",
       "    .dataframe thead th {\n",
       "        text-align: right;\n",
       "    }\n",
       "</style>\n",
       "<table border=\"1\" class=\"dataframe\">\n",
       "  <thead>\n",
       "    <tr style=\"text-align: right;\">\n",
       "      <th></th>\n",
       "      <th>bagreg_test_score</th>\n",
       "      <th>bagreg_train_score</th>\n",
       "    </tr>\n",
       "    <tr>\n",
       "      <th>Best Param</th>\n",
       "      <th></th>\n",
       "      <th></th>\n",
       "    </tr>\n",
       "  </thead>\n",
       "  <tbody>\n",
       "    <tr>\n",
       "      <th>60</th>\n",
       "      <td>0.556983</td>\n",
       "      <td>0.936277</td>\n",
       "    </tr>\n",
       "  </tbody>\n",
       "</table>\n",
       "</div>"
      ],
      "text/plain": [
       "           bagreg_test_score bagreg_train_score\n",
       "Best Param                                     \n",
       "60                  0.556983           0.936277"
      ]
     },
     "execution_count": 72,
     "metadata": {},
     "output_type": "execute_result"
    }
   ],
   "source": [
    "#Instantiate Bagging Regressor\n",
    "bagreg_est = list(range(10,100,10))\n",
    "bagreg_cols = [\"bagreg_test_score\", \"bagreg_train_score\"]\n",
    "bagreg_get_best = get_best_param(\"bagreg\", X_train, X_test, y_train, y_test, bagreg_est,bagreg_cols)\n",
    "bagreg_get_best"
   ]
  },
  {
   "cell_type": "code",
   "execution_count": 74,
   "metadata": {},
   "outputs": [
    {
     "data": {
      "text/html": [
       "<div>\n",
       "<style scoped>\n",
       "    .dataframe tbody tr th:only-of-type {\n",
       "        vertical-align: middle;\n",
       "    }\n",
       "\n",
       "    .dataframe tbody tr th {\n",
       "        vertical-align: top;\n",
       "    }\n",
       "\n",
       "    .dataframe thead th {\n",
       "        text-align: right;\n",
       "    }\n",
       "</style>\n",
       "<table border=\"1\" class=\"dataframe\">\n",
       "  <thead>\n",
       "    <tr style=\"text-align: right;\">\n",
       "      <th>model</th>\n",
       "      <th>bagreg</th>\n",
       "    </tr>\n",
       "  </thead>\n",
       "  <tbody>\n",
       "    <tr>\n",
       "      <th>test r-squared Score</th>\n",
       "      <td>0.557</td>\n",
       "    </tr>\n",
       "    <tr>\n",
       "      <th>train r-squared Score</th>\n",
       "      <td>0.936</td>\n",
       "    </tr>\n",
       "    <tr>\n",
       "      <th>test_MAE</th>\n",
       "      <td>768.770</td>\n",
       "    </tr>\n",
       "    <tr>\n",
       "      <th>train_MAE</th>\n",
       "      <td>298.370</td>\n",
       "    </tr>\n",
       "    <tr>\n",
       "      <th>test_MSE Score</th>\n",
       "      <td>1222273.340</td>\n",
       "    </tr>\n",
       "    <tr>\n",
       "      <th>train_MSE Score</th>\n",
       "      <td>188585.280</td>\n",
       "    </tr>\n",
       "    <tr>\n",
       "      <th>test_RMSE Score</th>\n",
       "      <td>1105.560</td>\n",
       "    </tr>\n",
       "    <tr>\n",
       "      <th>train_RMSE Score</th>\n",
       "      <td>1105.560</td>\n",
       "    </tr>\n",
       "  </tbody>\n",
       "</table>\n",
       "</div>"
      ],
      "text/plain": [
       "model                       bagreg\n",
       "test r-squared Score         0.557\n",
       "train r-squared Score        0.936\n",
       "test_MAE                   768.770\n",
       "train_MAE                  298.370\n",
       "test_MSE Score         1222273.340\n",
       "train_MSE Score         188585.280\n",
       "test_RMSE Score           1105.560\n",
       "train_RMSE Score          1105.560"
      ]
     },
     "execution_count": 74,
     "metadata": {},
     "output_type": "execute_result"
    }
   ],
   "source": [
    "bagreg_best_score = get_metrics(\"bagreg\", 60)\n",
    "bagreg_best_score.T"
   ]
  },
  {
   "cell_type": "code",
   "execution_count": 75,
   "metadata": {},
   "outputs": [
    {
     "data": {
      "text/html": [
       "<div>\n",
       "<style scoped>\n",
       "    .dataframe tbody tr th:only-of-type {\n",
       "        vertical-align: middle;\n",
       "    }\n",
       "\n",
       "    .dataframe tbody tr th {\n",
       "        vertical-align: top;\n",
       "    }\n",
       "\n",
       "    .dataframe thead th {\n",
       "        text-align: right;\n",
       "    }\n",
       "</style>\n",
       "<table border=\"1\" class=\"dataframe\">\n",
       "  <thead>\n",
       "    <tr style=\"text-align: right;\">\n",
       "      <th>model</th>\n",
       "      <th>rf</th>\n",
       "      <th>bagreg</th>\n",
       "      <th>dec_tree</th>\n",
       "      <th>reg</th>\n",
       "    </tr>\n",
       "  </thead>\n",
       "  <tbody>\n",
       "    <tr>\n",
       "      <th>test r-squared Score</th>\n",
       "      <td>0.603</td>\n",
       "      <td>0.557</td>\n",
       "      <td>0.595</td>\n",
       "      <td>0.567</td>\n",
       "    </tr>\n",
       "    <tr>\n",
       "      <th>train r-squared Score</th>\n",
       "      <td>0.611</td>\n",
       "      <td>0.936</td>\n",
       "      <td>0.604</td>\n",
       "      <td>0.562</td>\n",
       "    </tr>\n",
       "    <tr>\n",
       "      <th>test_MAE</th>\n",
       "      <td>728.370</td>\n",
       "      <td>768.770</td>\n",
       "      <td>738.360</td>\n",
       "      <td>804.110</td>\n",
       "    </tr>\n",
       "    <tr>\n",
       "      <th>train_MAE</th>\n",
       "      <td>755.390</td>\n",
       "      <td>298.370</td>\n",
       "      <td>762.640</td>\n",
       "      <td>847.110</td>\n",
       "    </tr>\n",
       "    <tr>\n",
       "      <th>test_MSE Score</th>\n",
       "      <td>1096367.640</td>\n",
       "      <td>1222273.340</td>\n",
       "      <td>1118187.950</td>\n",
       "      <td>1194297.880</td>\n",
       "    </tr>\n",
       "    <tr>\n",
       "      <th>train_MSE Score</th>\n",
       "      <td>1152609.470</td>\n",
       "      <td>188585.280</td>\n",
       "      <td>1172142.040</td>\n",
       "      <td>1297558.500</td>\n",
       "    </tr>\n",
       "    <tr>\n",
       "      <th>test_RMSE Score</th>\n",
       "      <td>1047.080</td>\n",
       "      <td>1105.560</td>\n",
       "      <td>1057.440</td>\n",
       "      <td>1092.840</td>\n",
       "    </tr>\n",
       "    <tr>\n",
       "      <th>train_RMSE Score</th>\n",
       "      <td>1047.080</td>\n",
       "      <td>1105.560</td>\n",
       "      <td>1057.440</td>\n",
       "      <td>1092.840</td>\n",
       "    </tr>\n",
       "  </tbody>\n",
       "</table>\n",
       "</div>"
      ],
      "text/plain": [
       "model                           rf       bagreg     dec_tree          reg\n",
       "test r-squared Score         0.603        0.557        0.595        0.567\n",
       "train r-squared Score        0.611        0.936        0.604        0.562\n",
       "test_MAE                   728.370      768.770      738.360      804.110\n",
       "train_MAE                  755.390      298.370      762.640      847.110\n",
       "test_MSE Score         1096367.640  1222273.340  1118187.950  1194297.880\n",
       "train_MSE Score        1152609.470   188585.280  1172142.040  1297558.500\n",
       "test_RMSE Score           1047.080     1105.560     1057.440     1092.840\n",
       "train_RMSE Score          1047.080     1105.560     1057.440     1092.840"
      ]
     },
     "execution_count": 75,
     "metadata": {},
     "output_type": "execute_result"
    }
   ],
   "source": [
    "#lets get final score\n",
    "final_score = pd.concat([rf_best_score,bagreg_best_score, dt_best_scores,reg_scores])\n",
    "final_score.T"
   ]
  },
  {
   "cell_type": "markdown",
   "metadata": {},
   "source": [
    "* Here we can see that by using more complex models we did better performance and shift the bias:variance ratio more towards variance(better fit) or more complex model can better find the patterns in this dataset"
   ]
  },
  {
   "cell_type": "code",
   "execution_count": null,
   "metadata": {},
   "outputs": [],
   "source": []
  }
 ],
 "metadata": {
  "colab": {
   "authorship_tag": "ABX9TyNL6mUIjXi1tRzo7raU5iPg",
   "include_colab_link": true,
   "provenance": []
  },
  "kernelspec": {
   "display_name": "Python 3 (ipykernel)",
   "language": "python",
   "name": "python3"
  },
  "language_info": {
   "codemirror_mode": {
    "name": "ipython",
    "version": 3
   },
   "file_extension": ".py",
   "mimetype": "text/x-python",
   "name": "python",
   "nbconvert_exporter": "python",
   "pygments_lexer": "ipython3",
   "version": "3.9.13"
  }
 },
 "nbformat": 4,
 "nbformat_minor": 1
}
